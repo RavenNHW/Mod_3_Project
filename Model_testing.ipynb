{
 "cells": [
  {
   "cell_type": "code",
   "execution_count": 70,
   "metadata": {},
   "outputs": [],
   "source": [
    "import pandas as pd\n",
    "import numpy as np\n",
    "import matplotlib.pyplot as plt\n",
    "import plotly.express as px\n",
    "\n",
    "from sklearn.ensemble import RandomForestClassifier\n",
    "\n",
    "from sklearn.tree import DecisionTreeClassifier\n",
    "from sklearn.naive_bayes import GaussianNB\n",
    "from sklearn.model_selection import train_test_split\n",
    "from sklearn.metrics import plot_confusion_matrix \n",
    "\n",
    "from sklearn import tree\n",
    "from sklearn import preprocessing"
   ]
  },
  {
   "cell_type": "code",
   "execution_count": 95,
   "metadata": {},
   "outputs": [],
   "source": [
    "X = pd.read_pickle(\"X_train_encoded.pickle\")\n",
    "y = pd.read_pickle(\"y_train_encoded.pickle\")\n",
    "\n",
    "cols = [c for c in X.columns if c.split('_')[-1] != 'code']\n",
    "\n",
    "lst = ['gps_height', 'longitude', 'latitude', 'population']\n",
    "for i in lst:\n",
    "    cols.remove(i)\n",
    "    \n",
    "X = X.drop(columns = cols)\n",
    "\n",
    "y = y['status_group']\n",
    "\n",
    "X_train, X_test, y_train, y_test = train_test_split(X, y)\n",
    "\n"
   ]
  },
  {
   "cell_type": "code",
   "execution_count": 63,
   "metadata": {},
   "outputs": [],
   "source": [
    "NB = GaussianNB()"
   ]
  },
  {
   "cell_type": "code",
   "execution_count": 64,
   "metadata": {},
   "outputs": [
    {
     "data": {
      "text/plain": [
       "GaussianNB()"
      ]
     },
     "execution_count": 64,
     "metadata": {},
     "output_type": "execute_result"
    }
   ],
   "source": [
    "NB.fit(X_train, y_train)"
   ]
  },
  {
   "cell_type": "code",
   "execution_count": 65,
   "metadata": {},
   "outputs": [
    {
     "data": {
      "text/plain": [
       "0.6034957500299294"
      ]
     },
     "execution_count": 65,
     "metadata": {},
     "output_type": "execute_result"
    }
   ],
   "source": [
    "NB.score(X_train, y_train)"
   ]
  },
  {
   "cell_type": "code",
   "execution_count": 66,
   "metadata": {},
   "outputs": [
    {
     "data": {
      "text/plain": [
       "0.593104686658287"
      ]
     },
     "execution_count": 66,
     "metadata": {},
     "output_type": "execute_result"
    }
   ],
   "source": [
    "NB.score(X_test, y_test)"
   ]
  },
  {
   "cell_type": "code",
   "execution_count": 67,
   "metadata": {},
   "outputs": [
    {
     "data": {
      "text/plain": [
       "<sklearn.metrics._plot.confusion_matrix.ConfusionMatrixDisplay at 0x22a85e973c8>"
      ]
     },
     "execution_count": 67,
     "metadata": {},
     "output_type": "execute_result"
    },
    {
     "data": {
      "image/png": "[encoded data removed]",
      "text/plain": [
       "<Figure size 432x288 with 2 Axes>"
      ]
     },
     "metadata": {
      "needs_background": "light"
     },
     "output_type": "display_data"
    }
   ],
   "source": [
    "plot_confusion_matrix(NB, X_test, y_test, cmap = \"Blues\", xticks_rotation  = \"vertical\")"
   ]
  },
  {
   "cell_type": "code",
   "execution_count": 68,
   "metadata": {},
   "outputs": [],
   "source": []
  },
  {
   "cell_type": "code",
   "execution_count": 69,
   "metadata": {},
   "outputs": [
    {
     "data": {
      "text/plain": [
       "0.7320883462021907"
      ]
     },
     "execution_count": 69,
     "metadata": {},
     "output_type": "execute_result"
    }
   ],
   "source": [
    "dt = DecisionTreeClassifier()\n",
    "\n",
    "dt_model = dt.fit(X_train, y_train)\n",
    "dt_model.score(X_test, y_test)"
   ]
  },
  {
   "cell_type": "code",
   "execution_count": 98,
   "metadata": {},
   "outputs": [
    {
     "name": "stderr",
     "output_type": "stream",
     "text": [
      "UsageError: Line magic function `%%time` not found.\n"
     ]
    }
   ],
   "source": [
    "forest1 = RandomForestClassifier(random_state = 47)\n",
    "forest1.fit(X_train, y_train)\n",
    "forest1.score(X_test, y_test)"
   ]
  },
  {
   "cell_type": "code",
   "execution_count": 82,
   "metadata": {},
   "outputs": [],
   "source": []
  },
  {
   "cell_type": "code",
   "execution_count": 86,
   "metadata": {},
   "outputs": [
    {
     "data": {
      "text/plain": [
       "0.9445142754534027"
      ]
     },
     "execution_count": 86,
     "metadata": {},
     "output_type": "execute_result"
    }
   ],
   "source": []
  },
  {
   "cell_type": "code",
   "execution_count": 78,
   "metadata": {},
   "outputs": [],
   "source": [
    "from sklearn.model_selection import GridSearchCV\n",
    "from sklearn import svm"
   ]
  },
  {
   "cell_type": "code",
   "execution_count": 113,
   "metadata": {},
   "outputs": [],
   "source": [
    "params = {\n",
    "    'random_state': 47,\n",
    "    'criterion' : [\"gini\", \"entropy\"],\n",
    "    'max_depth' : [3, 5, 10],\n",
    "    'min_samples_split' : [2, 50],\n",
    "    'min_samples_leaf' : [20, 50],\n",
    "    'max_features' : [5, 10],\n",
    "    'bootstrap' : [True],\n",
    "}\n",
    "\n",
    "gs = GridSearchCV(forest, params)"
   ]
  },
  {
   "cell_type": "code",
   "execution_count": 115,
   "metadata": {},
   "outputs": [
    {
     "data": {
      "text/plain": [
       "GridSearchCV(estimator=RandomForestClassifier(),\n",
       "             param_grid={'bootstrap': [True], 'criterion': ['gini'],\n",
       "                         'max_depth': [10, 15], 'max_features': [10, 15],\n",
       "                         'min_samples_leaf': [10, 20],\n",
       "                         'min_samples_split': [2, 5], 'random_state': [47]})"
      ]
     },
     "execution_count": 115,
     "metadata": {},
     "output_type": "execute_result"
    }
   ],
   "source": [
    "gs.fit(X_train, y_train)"
   ]
  },
  {
   "cell_type": "code",
   "execution_count": 108,
   "metadata": {},
   "outputs": [
    {
     "data": {
      "text/plain": [
       "{'bootstrap': True,\n",
       " 'criterion': 'gini',\n",
       " 'max_depth': 10,\n",
       " 'max_features': 10,\n",
       " 'min_samples_leaf': 20,\n",
       " 'min_samples_split': 2,\n",
       " 'random_state': 47}"
      ]
     },
     "execution_count": 108,
     "metadata": {},
     "output_type": "execute_result"
    }
   ],
   "source": [
    "gs.best_params_"
   ]
  },
  {
   "cell_type": "code",
   "execution_count": null,
   "metadata": {},
   "outputs": [],
   "source": [
    "params2 = {\n",
    "    'bootstrap' : [True],\n",
    "    'random_state': [47],\n",
    "    'criterion' : [\"gini\"],\n",
    "    \n",
    "    'max_depth' : [10, 15],\n",
    "    'min_samples_split' : [2, 5],\n",
    "    'min_samples_leaf' : [10, 20],\n",
    "    'max_features' : [10, 15],\n",
    "}\n",
    "\n",
    "gs2 = GridSearchCV(forest, params)"
   ]
  },
  {
   "cell_type": "code",
   "execution_count": 116,
   "metadata": {},
   "outputs": [
    {
     "data": {
      "text/plain": [
       "{'bootstrap': True,\n",
       " 'criterion': 'gini',\n",
       " 'max_depth': 15,\n",
       " 'max_features': 10,\n",
       " 'min_samples_leaf': 10,\n",
       " 'min_samples_split': 2,\n",
       " 'random_state': 47}"
      ]
     },
     "execution_count": 116,
     "metadata": {},
     "output_type": "execute_result"
    }
   ],
   "source": [
    "gs2.best_params_"
   ]
  },
  {
   "cell_type": "code",
   "execution_count": 122,
   "metadata": {},
   "outputs": [
    {
     "data": {
      "text/plain": [
       "0.7504938049919195"
      ]
     },
     "execution_count": 122,
     "metadata": {},
     "output_type": "execute_result"
    }
   ],
   "source": [
    "forest2 = RandomForestClassifier(bootstrap = True, criterion = 'gini', max_features = 10, max_depth = 10, min_samples_leaf = 20, min_samples_split = 3, random_state = 47)\n",
    "forest2.fit(X_train, y_train)\n",
    "forest2.score(X_test, y_test)"
   ]
  },
  {
   "cell_type": "code",
   "execution_count": 123,
   "metadata": {},
   "outputs": [
    {
     "data": {
      "text/plain": [
       "0.7790447117974502"
      ]
     },
     "execution_count": 123,
     "metadata": {},
     "output_type": "execute_result"
    }
   ],
   "source": [
    "forest3 = RandomForestClassifier(bootstrap = True, criterion = 'gini', random_state = 47, max_depth = 15, min_samples_leaf = 10, min_samples_split = 2)\n",
    "forest3.fit(X_train, y_train)\n",
    "forest3.score(X_test, y_test)"
   ]
  },
  {
   "cell_type": "code",
   "execution_count": 124,
   "metadata": {},
   "outputs": [],
   "source": [
    "from sklearn.metrics import classification_report"
   ]
  },
  {
   "cell_type": "code",
   "execution_count": 134,
   "metadata": {},
   "outputs": [],
   "source": [
    "y_test_pred = forest3.predict(X_test)"
   ]
  },
  {
   "cell_type": "code",
   "execution_count": 136,
   "metadata": {},
   "outputs": [
    {
     "data": {
      "text/plain": [
       "<sklearn.metrics._plot.confusion_matrix.ConfusionMatrixDisplay at 0x22a8568e240>"
      ]
     },
     "execution_count": 136,
     "metadata": {},
     "output_type": "execute_result"
    },
    {
     "data": {
      "image/png": "[encoded data removed]",
      "text/plain": [
       "<Figure size 432x288 with 2 Axes>"
      ]
     },
     "metadata": {
      "needs_background": "light"
     },
     "output_type": "display_data"
    }
   ],
   "source": [
    "plot_confusion_matrix(forest3, X_test, y_test, cmap = \"Reds\")"
   ]
  },
  {
   "cell_type": "code",
   "execution_count": 138,
   "metadata": {},
   "outputs": [],
   "source": [
    "from sklearn.pipeline import Pipeline"
   ]
  },
  {
   "cell_type": "code",
   "execution_count": 139,
   "metadata": {},
   "outputs": [],
   "source": [
    "from sklearn.neighbors import KNeighborsClassifier"
   ]
  },
  {
   "cell_type": "code",
   "execution_count": 152,
   "metadata": {},
   "outputs": [
    {
     "data": {
      "text/html": [
       "<div>\n",
       "<style scoped>\n",
       "    .dataframe tbody tr th:only-of-type {\n",
       "        vertical-align: middle;\n",
       "    }\n",
       "\n",
       "    .dataframe tbody tr th {\n",
       "        vertical-align: top;\n",
       "    }\n",
       "\n",
       "    .dataframe thead th {\n",
       "        text-align: right;\n",
       "    }\n",
       "</style>\n",
       "<table border=\"1\" class=\"dataframe\">\n",
       "  <thead>\n",
       "    <tr style=\"text-align: right;\">\n",
       "      <th></th>\n",
       "      <th>gps_height</th>\n",
       "      <th>longitude</th>\n",
       "      <th>latitude</th>\n",
       "      <th>region_code</th>\n",
       "      <th>district_code</th>\n",
       "      <th>population</th>\n",
       "      <th>installer_code</th>\n",
       "      <th>wpt_name_code</th>\n",
       "      <th>basin_code</th>\n",
       "      <th>subvillage_code</th>\n",
       "      <th>...</th>\n",
       "      <th>management_code</th>\n",
       "      <th>management_group_code</th>\n",
       "      <th>payment_code</th>\n",
       "      <th>water_quality_code</th>\n",
       "      <th>quality_group_code</th>\n",
       "      <th>quantity_code</th>\n",
       "      <th>source_code</th>\n",
       "      <th>source_type_code</th>\n",
       "      <th>source_class_code</th>\n",
       "      <th>waterpoint_type_code</th>\n",
       "    </tr>\n",
       "  </thead>\n",
       "  <tbody>\n",
       "    <tr>\n",
       "      <th>56561</th>\n",
       "      <td>328</td>\n",
       "      <td>36.419088</td>\n",
       "      <td>-8.654572e+00</td>\n",
       "      <td>11</td>\n",
       "      <td>4</td>\n",
       "      <td>75</td>\n",
       "      <td>349</td>\n",
       "      <td>3399</td>\n",
       "      <td>6</td>\n",
       "      <td>7782</td>\n",
       "      <td>...</td>\n",
       "      <td>11</td>\n",
       "      <td>4</td>\n",
       "      <td>3</td>\n",
       "      <td>6</td>\n",
       "      <td>2</td>\n",
       "      <td>1</td>\n",
       "      <td>6</td>\n",
       "      <td>4</td>\n",
       "      <td>1</td>\n",
       "      <td>1</td>\n",
       "    </tr>\n",
       "    <tr>\n",
       "      <th>25280</th>\n",
       "      <td>1616</td>\n",
       "      <td>29.757376</td>\n",
       "      <td>-4.621457e+00</td>\n",
       "      <td>5</td>\n",
       "      <td>3</td>\n",
       "      <td>200</td>\n",
       "      <td>267</td>\n",
       "      <td>25284</td>\n",
       "      <td>3</td>\n",
       "      <td>6730</td>\n",
       "      <td>...</td>\n",
       "      <td>7</td>\n",
       "      <td>4</td>\n",
       "      <td>6</td>\n",
       "      <td>6</td>\n",
       "      <td>2</td>\n",
       "      <td>1</td>\n",
       "      <td>8</td>\n",
       "      <td>6</td>\n",
       "      <td>0</td>\n",
       "      <td>5</td>\n",
       "    </tr>\n",
       "    <tr>\n",
       "      <th>58423</th>\n",
       "      <td>1347</td>\n",
       "      <td>37.618954</td>\n",
       "      <td>-3.200634e+00</td>\n",
       "      <td>6</td>\n",
       "      <td>1</td>\n",
       "      <td>1</td>\n",
       "      <td>380</td>\n",
       "      <td>8162</td>\n",
       "      <td>5</td>\n",
       "      <td>5598</td>\n",
       "      <td>...</td>\n",
       "      <td>0</td>\n",
       "      <td>0</td>\n",
       "      <td>3</td>\n",
       "      <td>6</td>\n",
       "      <td>2</td>\n",
       "      <td>1</td>\n",
       "      <td>8</td>\n",
       "      <td>6</td>\n",
       "      <td>0</td>\n",
       "      <td>1</td>\n",
       "    </tr>\n",
       "    <tr>\n",
       "      <th>12371</th>\n",
       "      <td>0</td>\n",
       "      <td>32.173748</td>\n",
       "      <td>-3.422392e+00</td>\n",
       "      <td>17</td>\n",
       "      <td>5</td>\n",
       "      <td>0</td>\n",
       "      <td>1791</td>\n",
       "      <td>4144</td>\n",
       "      <td>3</td>\n",
       "      <td>4296</td>\n",
       "      <td>...</td>\n",
       "      <td>7</td>\n",
       "      <td>4</td>\n",
       "      <td>6</td>\n",
       "      <td>6</td>\n",
       "      <td>2</td>\n",
       "      <td>1</td>\n",
       "      <td>7</td>\n",
       "      <td>5</td>\n",
       "      <td>0</td>\n",
       "      <td>4</td>\n",
       "    </tr>\n",
       "    <tr>\n",
       "      <th>43509</th>\n",
       "      <td>100</td>\n",
       "      <td>39.017876</td>\n",
       "      <td>-4.999318e+00</td>\n",
       "      <td>20</td>\n",
       "      <td>4</td>\n",
       "      <td>80</td>\n",
       "      <td>349</td>\n",
       "      <td>10086</td>\n",
       "      <td>5</td>\n",
       "      <td>1850</td>\n",
       "      <td>...</td>\n",
       "      <td>7</td>\n",
       "      <td>4</td>\n",
       "      <td>0</td>\n",
       "      <td>6</td>\n",
       "      <td>2</td>\n",
       "      <td>0</td>\n",
       "      <td>7</td>\n",
       "      <td>5</td>\n",
       "      <td>0</td>\n",
       "      <td>6</td>\n",
       "    </tr>\n",
       "    <tr>\n",
       "      <th>...</th>\n",
       "      <td>...</td>\n",
       "      <td>...</td>\n",
       "      <td>...</td>\n",
       "      <td>...</td>\n",
       "      <td>...</td>\n",
       "      <td>...</td>\n",
       "      <td>...</td>\n",
       "      <td>...</td>\n",
       "      <td>...</td>\n",
       "      <td>...</td>\n",
       "      <td>...</td>\n",
       "      <td>...</td>\n",
       "      <td>...</td>\n",
       "      <td>...</td>\n",
       "      <td>...</td>\n",
       "      <td>...</td>\n",
       "      <td>...</td>\n",
       "      <td>...</td>\n",
       "      <td>...</td>\n",
       "      <td>...</td>\n",
       "      <td>...</td>\n",
       "    </tr>\n",
       "    <tr>\n",
       "      <th>36379</th>\n",
       "      <td>359</td>\n",
       "      <td>37.639347</td>\n",
       "      <td>-6.114479e+00</td>\n",
       "      <td>11</td>\n",
       "      <td>6</td>\n",
       "      <td>56</td>\n",
       "      <td>908</td>\n",
       "      <td>10005</td>\n",
       "      <td>8</td>\n",
       "      <td>5264</td>\n",
       "      <td>...</td>\n",
       "      <td>7</td>\n",
       "      <td>4</td>\n",
       "      <td>0</td>\n",
       "      <td>6</td>\n",
       "      <td>2</td>\n",
       "      <td>1</td>\n",
       "      <td>3</td>\n",
       "      <td>0</td>\n",
       "      <td>0</td>\n",
       "      <td>1</td>\n",
       "    </tr>\n",
       "    <tr>\n",
       "      <th>41813</th>\n",
       "      <td>1356</td>\n",
       "      <td>38.481168</td>\n",
       "      <td>-4.940758e+00</td>\n",
       "      <td>20</td>\n",
       "      <td>1</td>\n",
       "      <td>1</td>\n",
       "      <td>349</td>\n",
       "      <td>15520</td>\n",
       "      <td>5</td>\n",
       "      <td>6529</td>\n",
       "      <td>...</td>\n",
       "      <td>7</td>\n",
       "      <td>4</td>\n",
       "      <td>0</td>\n",
       "      <td>6</td>\n",
       "      <td>2</td>\n",
       "      <td>1</td>\n",
       "      <td>8</td>\n",
       "      <td>6</td>\n",
       "      <td>0</td>\n",
       "      <td>1</td>\n",
       "    </tr>\n",
       "    <tr>\n",
       "      <th>22309</th>\n",
       "      <td>972</td>\n",
       "      <td>36.820454</td>\n",
       "      <td>-3.487677e+00</td>\n",
       "      <td>0</td>\n",
       "      <td>2</td>\n",
       "      <td>150</td>\n",
       "      <td>349</td>\n",
       "      <td>21456</td>\n",
       "      <td>5</td>\n",
       "      <td>8416</td>\n",
       "      <td>...</td>\n",
       "      <td>7</td>\n",
       "      <td>4</td>\n",
       "      <td>4</td>\n",
       "      <td>6</td>\n",
       "      <td>2</td>\n",
       "      <td>2</td>\n",
       "      <td>8</td>\n",
       "      <td>6</td>\n",
       "      <td>0</td>\n",
       "      <td>1</td>\n",
       "    </tr>\n",
       "    <tr>\n",
       "      <th>48847</th>\n",
       "      <td>0</td>\n",
       "      <td>31.735203</td>\n",
       "      <td>-1.363899e+00</td>\n",
       "      <td>4</td>\n",
       "      <td>2</td>\n",
       "      <td>0</td>\n",
       "      <td>736</td>\n",
       "      <td>27053</td>\n",
       "      <td>4</td>\n",
       "      <td>4133</td>\n",
       "      <td>...</td>\n",
       "      <td>7</td>\n",
       "      <td>4</td>\n",
       "      <td>0</td>\n",
       "      <td>6</td>\n",
       "      <td>2</td>\n",
       "      <td>2</td>\n",
       "      <td>5</td>\n",
       "      <td>3</td>\n",
       "      <td>1</td>\n",
       "      <td>1</td>\n",
       "    </tr>\n",
       "    <tr>\n",
       "      <th>17001</th>\n",
       "      <td>0</td>\n",
       "      <td>0.000000</td>\n",
       "      <td>-2.000000e-08</td>\n",
       "      <td>13</td>\n",
       "      <td>6</td>\n",
       "      <td>0</td>\n",
       "      <td>30</td>\n",
       "      <td>21446</td>\n",
       "      <td>3</td>\n",
       "      <td>2948</td>\n",
       "      <td>...</td>\n",
       "      <td>7</td>\n",
       "      <td>4</td>\n",
       "      <td>5</td>\n",
       "      <td>6</td>\n",
       "      <td>2</td>\n",
       "      <td>2</td>\n",
       "      <td>3</td>\n",
       "      <td>0</td>\n",
       "      <td>0</td>\n",
       "      <td>4</td>\n",
       "    </tr>\n",
       "  </tbody>\n",
       "</table>\n",
       "<p>33412 rows × 29 columns</p>\n",
       "</div>"
      ],
      "text/plain": [
       "       gps_height  longitude      latitude  region_code  district_code  \\\n",
       "56561         328  36.419088 -8.654572e+00           11              4   \n",
       "25280        1616  29.757376 -4.621457e+00            5              3   \n",
       "58423        1347  37.618954 -3.200634e+00            6              1   \n",
       "12371           0  32.173748 -3.422392e+00           17              5   \n",
       "43509         100  39.017876 -4.999318e+00           20              4   \n",
       "...           ...        ...           ...          ...            ...   \n",
       "36379         359  37.639347 -6.114479e+00           11              6   \n",
       "41813        1356  38.481168 -4.940758e+00           20              1   \n",
       "22309         972  36.820454 -3.487677e+00            0              2   \n",
       "48847           0  31.735203 -1.363899e+00            4              2   \n",
       "17001           0   0.000000 -2.000000e-08           13              6   \n",
       "\n",
       "       population  installer_code  wpt_name_code  basin_code  subvillage_code  \\\n",
       "56561          75             349           3399           6             7782   \n",
       "25280         200             267          25284           3             6730   \n",
       "58423           1             380           8162           5             5598   \n",
       "12371           0            1791           4144           3             4296   \n",
       "43509          80             349          10086           5             1850   \n",
       "...           ...             ...            ...         ...              ...   \n",
       "36379          56             908          10005           8             5264   \n",
       "41813           1             349          15520           5             6529   \n",
       "22309         150             349          21456           5             8416   \n",
       "48847           0             736          27053           4             4133   \n",
       "17001           0              30          21446           3             2948   \n",
       "\n",
       "       ...  management_code  management_group_code  payment_code  \\\n",
       "56561  ...               11                      4             3   \n",
       "25280  ...                7                      4             6   \n",
       "58423  ...                0                      0             3   \n",
       "12371  ...                7                      4             6   \n",
       "43509  ...                7                      4             0   \n",
       "...    ...              ...                    ...           ...   \n",
       "36379  ...                7                      4             0   \n",
       "41813  ...                7                      4             0   \n",
       "22309  ...                7                      4             4   \n",
       "48847  ...                7                      4             0   \n",
       "17001  ...                7                      4             5   \n",
       "\n",
       "       water_quality_code  quality_group_code  quantity_code  source_code  \\\n",
       "56561                   6                   2              1            6   \n",
       "25280                   6                   2              1            8   \n",
       "58423                   6                   2              1            8   \n",
       "12371                   6                   2              1            7   \n",
       "43509                   6                   2              0            7   \n",
       "...                   ...                 ...            ...          ...   \n",
       "36379                   6                   2              1            3   \n",
       "41813                   6                   2              1            8   \n",
       "22309                   6                   2              2            8   \n",
       "48847                   6                   2              2            5   \n",
       "17001                   6                   2              2            3   \n",
       "\n",
       "       source_type_code  source_class_code  waterpoint_type_code  \n",
       "56561                 4                  1                     1  \n",
       "25280                 6                  0                     5  \n",
       "58423                 6                  0                     1  \n",
       "12371                 5                  0                     4  \n",
       "43509                 5                  0                     6  \n",
       "...                 ...                ...                   ...  \n",
       "36379                 0                  0                     1  \n",
       "41813                 6                  0                     1  \n",
       "22309                 6                  0                     1  \n",
       "48847                 3                  1                     1  \n",
       "17001                 0                  0                     4  \n",
       "\n",
       "[33412 rows x 29 columns]"
      ]
     },
     "execution_count": 152,
     "metadata": {},
     "output_type": "execute_result"
    }
   ],
   "source": [
    "X_train"
   ]
  },
  {
   "cell_type": "code",
   "execution_count": 144,
   "metadata": {},
   "outputs": [],
   "source": [
    "KNN = KNeighborsClassifier(weights = 'distance', n_neighbors = 3)"
   ]
  },
  {
   "cell_type": "code",
   "execution_count": 153,
   "metadata": {},
   "outputs": [],
   "source": [
    "X_train_knn = X_train[['latitude', 'longitude', 'gps_height', 'basin_code', 'district_code', 'management_code']]\n",
    "X_test_knn = X_test[['latitude', 'longitude', 'gps_height', 'basin_code', 'district_code', 'management_code']]"
   ]
  },
  {
   "cell_type": "code",
   "execution_count": 154,
   "metadata": {},
   "outputs": [
    {
     "data": {
      "text/plain": [
       "KNeighborsClassifier(n_neighbors=3, weights='distance')"
      ]
     },
     "execution_count": 154,
     "metadata": {},
     "output_type": "execute_result"
    }
   ],
   "source": [
    "KNN.fit(X_train_knn, y_train)"
   ]
  },
  {
   "cell_type": "code",
   "execution_count": 155,
   "metadata": {},
   "outputs": [
    {
     "data": {
      "text/plain": [
       "0.5953492548033759"
      ]
     },
     "execution_count": 155,
     "metadata": {},
     "output_type": "execute_result"
    }
   ],
   "source": [
    "KNN.score(X_test_knn, y_test)"
   ]
  },
  {
   "cell_type": "code",
   "execution_count": 157,
   "metadata": {},
   "outputs": [],
   "source": [
    "from sklearn.preprocessing import StandardScaler, MinMaxScaler, Normalizer\n"
   ]
  },
  {
   "cell_type": "code",
   "execution_count": 159,
   "metadata": {},
   "outputs": [],
   "source": [
    "ss = StandardScaler()\n",
    "\n",
    "X_train_scales = ss.fit_transform(X_train)\n",
    "X_test_scales = ss.transform(X_test)"
   ]
  },
  {
   "cell_type": "code",
   "execution_count": 161,
   "metadata": {},
   "outputs": [
    {
     "data": {
      "text/plain": [
       "RandomForestClassifier(max_depth=15, min_samples_leaf=10, random_state=47)"
      ]
     },
     "execution_count": 161,
     "metadata": {},
     "output_type": "execute_result"
    }
   ],
   "source": [
    "forest3.fit(X_train_scales, y_train)"
   ]
  },
  {
   "cell_type": "code",
   "execution_count": 163,
   "metadata": {},
   "outputs": [
    {
     "data": {
      "text/plain": [
       "0.7791344945232537"
      ]
     },
     "execution_count": 163,
     "metadata": {},
     "output_type": "execute_result"
    }
   ],
   "source": [
    "forest3.score(X_test_scales, y_test)"
   ]
  },
  {
   "cell_type": "code",
   "execution_count": 173,
   "metadata": {},
   "outputs": [],
   "source": [
    "from sklearn.pipeline import make_pipeline\n",
    "from sklearn.linear_model import LogisticRegression\n"
   ]
  },
  {
   "cell_type": "code",
   "execution_count": 166,
   "metadata": {},
   "outputs": [],
   "source": []
  },
  {
   "cell_type": "code",
   "execution_count": 179,
   "metadata": {},
   "outputs": [
    {
     "data": {
      "text/plain": [
       "0.7879332016520022"
      ]
     },
     "execution_count": 179,
     "metadata": {},
     "output_type": "execute_result"
    }
   ],
   "source": [
    "pipe1 = make_pipeline(\n",
    "    StandardScaler(),\n",
    "    RandomForestClassifier(bootstrap = True, criterion = 'gini', random_state = 47, max_depth = 30, min_samples_leaf = 10, min_samples_split = 2)\n",
    ")\n",
    "\n",
    "pipe1.fit(X_train, y_train)\n",
    "pipe1.score(X_test, y_test)"
   ]
  },
  {
   "cell_type": "code",
   "execution_count": null,
   "metadata": {},
   "outputs": [],
   "source": []
  }
 ],
 "metadata": {
  "kernelspec": {
   "display_name": "learn-env",
   "language": "python",
   "name": "learn-env"
  },
  "language_info": {
   "codemirror_mode": {
    "name": "ipython",
    "version": 3
   },
   "file_extension": ".py",
   "mimetype": "text/x-python",
   "name": "python",
   "nbconvert_exporter": "python",
   "pygments_lexer": "ipython3",
   "version": "3.6.9"
  }
 },
 "nbformat": 4,
 "nbformat_minor": 4
}
