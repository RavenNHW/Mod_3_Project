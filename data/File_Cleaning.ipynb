{
 "cells": [
  {
   "cell_type": "code",
   "execution_count": 48,
   "metadata": {},
   "outputs": [],
   "source": [
    "import pandas as pd\n",
    "import numpy as np\n",
    "from sklearn.model_selection import train_test_split\n",
    "from sklearn.impute import SimpleImputer"
   ]
  },
  {
   "cell_type": "code",
   "execution_count": 49,
   "metadata": {},
   "outputs": [],
   "source": [
    "#Importing raw data and joining the tables together \n",
    "\n",
    "raw_values = pd.read_csv('raw_data/taarifa_values.csv', index_col = 'id')\n",
    "raw_labels = pd.read_csv('raw_data/taarifa_labels.csv', index_col = 'id')\n",
    "raw_df = raw_values.join(raw_labels)\n",
    "\n",
    "#Separating the test and train data \n",
    "raw_train_df, test_df = train_test_split(raw_df, test_size = .25, random_state = 47 )\n",
    "\n",
    "#Saving the test data\n",
    "test_df.to_csv(\"Test_Data.csv\")\n"
   ]
  },
  {
   "cell_type": "code",
   "execution_count": 50,
   "metadata": {},
   "outputs": [],
   "source": [
    "# raw_df[['amount_tsh', 'source_type', 'source_class', 'water_quality', 'quality_group', 'quantity', 'quantity_group']].head(20)\n",
    "# raw_df.head().transpose()\n",
    "\n",
    "# raw_df.dtypes\n",
    "\n",
    "# (raw_df.quantity == raw_df.quantity_group).value_counts() \n",
    "#drop scheme name - almost missing half in the dataset\n",
    "#drop quantity_group -- exactly the same as quantity || payment_type is the same as payment, waterpoint_type_group \n",
    "#drop rows that're missing values on scheme_management, funder, installer, sub_village \n",
    "# raw_df.head()"
   ]
  },
  {
   "cell_type": "code",
   "execution_count": 55,
   "metadata": {},
   "outputs": [],
   "source": [
    "#Creating the initial training dataframe, dropping redundant or completely empty columns\n",
    "init_train_df = raw_train_df.drop(columns = [\"quantity_group\", \"scheme_name\", \"num_private\", \"payment_type\", \"waterpoint_type_group\"])\n",
    "\n"
   ]
  },
  {
   "cell_type": "code",
   "execution_count": 60,
   "metadata": {},
   "outputs": [],
   "source": [
    "# cols = list()\n",
    "\n",
    "SI = SimpleImputer(missing_values=np.nan, strategy='most_frequent')\n",
    "df_imputed = SI.fit_transform(init_train_df)\n",
    "train_df = pd.DataFrame(data=df_imputed, columns=train_df.columns)\n",
    "\n"
   ]
  },
  {
   "cell_type": "code",
   "execution_count": 82,
   "metadata": {},
   "outputs": [
    {
     "name": "stdout",
     "output_type": "stream",
     "text": [
      "<class 'pandas.core.frame.DataFrame'>\n",
      "RangeIndex: 44550 entries, 0 to 44549\n",
      "Data columns (total 35 columns):\n",
      " #   Column                 Non-Null Count  Dtype         \n",
      "---  ------                 --------------  -----         \n",
      " 0   amount_tsh             44550 non-null  float64       \n",
      " 1   date_recorded          44550 non-null  datetime64[ns]\n",
      " 2   funder                 44550 non-null  object        \n",
      " 3   gps_height             44550 non-null  float64       \n",
      " 4   installer              44550 non-null  object        \n",
      " 5   longitude              44550 non-null  float64       \n",
      " 6   latitude               44550 non-null  float64       \n",
      " 7   wpt_name               44550 non-null  object        \n",
      " 8   basin                  44550 non-null  object        \n",
      " 9   subvillage             44550 non-null  object        \n",
      " 10  region                 44550 non-null  object        \n",
      " 11  region_code            44550 non-null  object        \n",
      " 12  district_code          44550 non-null  object        \n",
      " 13  lga                    44550 non-null  object        \n",
      " 14  ward                   44550 non-null  object        \n",
      " 15  population             44550 non-null  int32         \n",
      " 16  public_meeting         44550 non-null  bool          \n",
      " 17  recorded_by            44550 non-null  object        \n",
      " 18  scheme_management      44550 non-null  object        \n",
      " 19  permit                 44550 non-null  bool          \n",
      " 20  construction_year      44550 non-null  int32         \n",
      " 21  extraction_type        44550 non-null  object        \n",
      " 22  extraction_type_group  44550 non-null  object        \n",
      " 23  extraction_type_class  44550 non-null  object        \n",
      " 24  management             44550 non-null  object        \n",
      " 25  management_group       44550 non-null  object        \n",
      " 26  payment                44550 non-null  object        \n",
      " 27  water_quality          44550 non-null  object        \n",
      " 28  quality_group          44550 non-null  object        \n",
      " 29  quantity               44550 non-null  object        \n",
      " 30  source                 44550 non-null  object        \n",
      " 31  source_type            44550 non-null  object        \n",
      " 32  source_class           44550 non-null  object        \n",
      " 33  waterpoint_type        44550 non-null  object        \n",
      " 34  status_group           44550 non-null  object        \n",
      "dtypes: bool(2), datetime64[ns](1), float64(4), int32(2), object(26)\n",
      "memory usage: 11.0+ MB\n"
     ]
    }
   ],
   "source": [
    "#Correcting date column \n",
    "train_df.date_recorded = pd.to_datetime(train_df.date_recorded)\n",
    "\n",
    "#Correcting other datatypes\n",
    "train_df = train_df.astype({'amount_tsh' : 'float',\n",
    "                 'longitude'          : 'float' ,\n",
    "                 'latitude'           : 'float',\n",
    "                 'population'         : 'int' ,\n",
    "                 'permit'             : 'bool',\n",
    "                 'construction_year'  : 'int',\n",
    "                 'gps_height'         : 'float',\n",
    "                 'public_meeting'     : 'bool'})\n",
    "\n",
    "train_df.info() #Checking to make sure datatypes have been changed"
   ]
  },
  {
   "cell_type": "code",
   "execution_count": 83,
   "metadata": {},
   "outputs": [
    {
     "data": {
      "text/plain": [
       "0"
      ]
     },
     "execution_count": 83,
     "metadata": {},
     "output_type": "execute_result"
    }
   ],
   "source": [
    "train_df.isna().sum().sum() #No null values here! "
   ]
  },
  {
   "cell_type": "code",
   "execution_count": 84,
   "metadata": {},
   "outputs": [],
   "source": [
    "train_df.to_csv(\"Train_Data.csv\")"
   ]
  }
 ],
 "metadata": {
  "kernelspec": {
   "display_name": "learn-env",
   "language": "python",
   "name": "learn-env"
  },
  "language_info": {
   "codemirror_mode": {
    "name": "ipython",
    "version": 3
   },
   "file_extension": ".py",
   "mimetype": "text/x-python",
   "name": "python",
   "nbconvert_exporter": "python",
   "pygments_lexer": "ipython3",
   "version": "3.6.9"
  }
 },
 "nbformat": 4,
 "nbformat_minor": 4
}
