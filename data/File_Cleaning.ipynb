{
 "cells": [
  {
   "cell_type": "code",
   "execution_count": 20,
   "metadata": {},
   "outputs": [],
   "source": [
    "import pandas as pd\n",
    "import numpy as np\n",
    "from sklearn.model_selection import train_test_split\n",
    "from sklearn.impute import SimpleImputer"
   ]
  },
  {
   "cell_type": "code",
   "execution_count": 21,
   "metadata": {},
   "outputs": [],
   "source": [
    "#Importing raw data and joining the tables together \n",
    "\n",
    "raw_values = pd.read_csv('raw_data/tanzania_values.csv', index_col = 'id')\n",
    "raw_labels = pd.read_csv('raw_data/tanzania_labels.csv', index_col = 'id')\n",
    "raw_df = raw_values.join(raw_labels)\n",
    "\n",
    "#Separating the test and train data \n",
    "raw_train_df, test_df = train_test_split(raw_df, test_size = .25, random_state = 47 )\n",
    "\n",
    "#Saving the test data\n",
    "test_df.to_csv(\"Test_Data.csv\")\n"
   ]
  },
  {
   "cell_type": "code",
   "execution_count": 22,
   "metadata": {},
   "outputs": [],
   "source": [
    "#Creating the initial training dataframe, dropping redundant or completely empty columns\n",
    "init_train_df = raw_train_df.drop(columns = [\"quantity_group\", \"scheme_name\", \"num_private\", \"payment_type\", \"waterpoint_type_group\"])\n",
    "\n"
   ]
  },
  {
   "cell_type": "code",
   "execution_count": null,
   "metadata": {},
   "outputs": [],
   "source": [
    "SI = SimpleImputer(missing_values=np.nan, strategy='most_frequent')\n",
    "df_imputed = SI.fit_transform(init_train_df)\n",
    "\n",
    "#Creating the actual final training dataframe\n",
    "train_df = pd.DataFrame(data=df_imputed, columns=init_train_df.columns)\n",
    "\n"
   ]
  },
  {
   "cell_type": "code",
   "execution_count": null,
   "metadata": {},
   "outputs": [],
   "source": [
    "#Correcting date column \n",
    "train_df.date_recorded = pd.to_datetime(train_df.date_recorded)\n",
    "\n",
    "#Correcting other datatypes\n",
    "train_df = train_df.astype({'amount_tsh' : 'float',\n",
    "                 'longitude'          : 'float' ,\n",
    "                 'latitude'           : 'float',\n",
    "                 'population'         : 'int' ,\n",
    "                 'permit'             : 'bool',\n",
    "                 'construction_year'  : 'int',\n",
    "                 'gps_height'         : 'float',\n",
    "                 'public_meeting'     : 'bool'})\n",
    "\n",
    "train_df.info() #Checking to make sure datatypes have been changed"
   ]
  },
  {
   "cell_type": "code",
   "execution_count": null,
   "metadata": {},
   "outputs": [],
   "source": [
    "train_df.isna().sum().sum() #No null values here! "
   ]
  },
  {
   "cell_type": "code",
   "execution_count": null,
   "metadata": {},
   "outputs": [],
   "source": [
    "#saving the training data\n",
    "train_df.to_csv(\"Train_Data.csv\")"
   ]
  }
 ],
 "metadata": {
  "kernelspec": {
   "display_name": "learn-env",
   "language": "python",
   "name": "learn-env"
  },
  "language_info": {
   "codemirror_mode": {
    "name": "ipython",
    "version": 3
   },
   "file_extension": ".py",
   "mimetype": "text/x-python",
   "name": "python",
   "nbconvert_exporter": "python",
   "pygments_lexer": "ipython3",
   "version": "3.6.9"
  }
 },
 "nbformat": 4,
 "nbformat_minor": 4
}
