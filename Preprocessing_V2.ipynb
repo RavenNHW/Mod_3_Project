{
 "cells": [
  {
   "cell_type": "markdown",
   "metadata": {},
   "source": [
    "## 0. Import Data"
   ]
  },
  {
   "cell_type": "code",
   "execution_count": 10,
   "metadata": {},
   "outputs": [],
   "source": [
    "import pandas as pd\n",
    "import numpy as np\n",
    "import seaborn as sns\n",
    "import matplotlib.pyplot as plt\n",
    "from sklearn.model_selection import train_test_split\n",
    "from sklearn.impute import SimpleImputer\n",
    "from sklearn import preprocessing"
   ]
  },
  {
   "cell_type": "code",
   "execution_count": 11,
   "metadata": {},
   "outputs": [],
   "source": [
    "df = pd.read_csv('data/Pump_it_Up_Data_Mining_the_Water_Table_-_Training_set_values.csv')\n",
    "df2 = pd.read_csv('data/Pump_it_Up_Data_Mining_the_Water_Table_-_Training_set_labels.csv')"
   ]
  },
  {
   "cell_type": "markdown",
   "metadata": {},
   "source": [
    "## 1.  Train Test Split"
   ]
  },
  {
   "cell_type": "code",
   "execution_count": 12,
   "metadata": {},
   "outputs": [],
   "source": [
    "X_train, X_test, y_train, y_test = train_test_split(df, df2, test_size = 0.25, random_state = 47)"
   ]
  },
  {
   "cell_type": "markdown",
   "metadata": {},
   "source": [
    "## 2. Missing Values"
   ]
  },
  {
   "cell_type": "markdown",
   "metadata": {},
   "source": [
    "__Missing Values Decisions__\n",
    "- drop scheme_name column\n",
    "- drop funder column, based on research it is unreliable and highly varied\n",
    "- drop NAN rows from scheme_management, funder, installer, subvillage, permit \n",
    "\n",
    "__Non-Relevant Data__\n",
    "- num_private has no description and is all zeros, removing column. \n",
    "- drop payment_type, quantity group, waterpoint_type_group because these are redundant with payment, quantity.\n",
    "\n",
    "__Categorical Features__\n",
    "- All except latitude, longitude, gps height, population, construction_year\n",
    "\n",
    "__Rows__\n",
    "- we decided not to drop any rows "
   ]
  },
  {
   "cell_type": "code",
   "execution_count": null,
   "metadata": {},
   "outputs": [],
   "source": [
    "#dropping columns\n",
    "X_train = X_train.drop(columns=['scheme_name', 'payment_type', 'quantity_group', 'waterpoint_type_group', 'num_private'])"
   ]
  },
  {
   "cell_type": "markdown",
   "metadata": {},
   "source": [
    "### Imputing"
   ]
  },
  {
   "cell_type": "code",
   "execution_count": 19,
   "metadata": {},
   "outputs": [
    {
     "data": {
      "text/plain": [
       "id                          0\n",
       "amount_tsh                  0\n",
       "date_recorded               0\n",
       "funder                   2720\n",
       "gps_height                  0\n",
       "installer                2740\n",
       "longitude                   0\n",
       "latitude                    0\n",
       "wpt_name                    0\n",
       "basin                       0\n",
       "subvillage                286\n",
       "region                      0\n",
       "region_code                 0\n",
       "district_code               0\n",
       "lga                         0\n",
       "ward                        0\n",
       "population                  0\n",
       "public_meeting           2508\n",
       "recorded_by                 0\n",
       "scheme_management        2938\n",
       "permit                   2263\n",
       "construction_year           0\n",
       "extraction_type             0\n",
       "extraction_type_group       0\n",
       "extraction_type_class       0\n",
       "management                  0\n",
       "management_group            0\n",
       "payment                     0\n",
       "water_quality               0\n",
       "quality_group               0\n",
       "quantity                    0\n",
       "source                      0\n",
       "source_type                 0\n",
       "source_class                0\n",
       "waterpoint_type             0\n",
       "dtype: int64"
      ]
     },
     "execution_count": 19,
     "metadata": {},
     "output_type": "execute_result"
    }
   ],
   "source": [
    "X_train.isna().sum()"
   ]
  },
  {
   "cell_type": "code",
   "execution_count": 20,
   "metadata": {},
   "outputs": [],
   "source": [
    "cols = list(X_train.columns)"
   ]
  },
  {
   "cell_type": "code",
   "execution_count": 21,
   "metadata": {},
   "outputs": [
    {
     "data": {
      "text/plain": [
       "array([[29040, 0.0, '2013-02-05', ..., 'spring', 'groundwater',\n",
       "        'improved spring'],\n",
       "       [69788, 50.0, '2011-03-12', ..., 'river/lake', 'surface',\n",
       "        'communal standpipe'],\n",
       "       [51208, 300.0, '2011-02-26', ..., 'borehole', 'groundwater',\n",
       "        'communal standpipe'],\n",
       "       ...,\n",
       "       [53875, 0.0, '2013-03-15', ..., 'borehole', 'groundwater',\n",
       "        'communal standpipe'],\n",
       "       [8608, 20000.0, '2011-02-28', ..., 'spring', 'groundwater',\n",
       "        'communal standpipe'],\n",
       "       [60477, 0.0, '2011-03-14', ..., 'borehole', 'groundwater',\n",
       "        'communal standpipe']], dtype=object)"
      ]
     },
     "execution_count": 21,
     "metadata": {},
     "output_type": "execute_result"
    }
   ],
   "source": [
    "SI = SimpleImputer(missing_values=np.nan, strategy='most_frequent')\n",
    "X_train_imputed = SI.fit_transform(X_train)\n",
    "X_train_imputed"
   ]
  },
  {
   "cell_type": "code",
   "execution_count": 22,
   "metadata": {},
   "outputs": [
    {
     "data": {
      "text/html": [
       "<div>\n",
       "<style scoped>\n",
       "    .dataframe tbody tr th:only-of-type {\n",
       "        vertical-align: middle;\n",
       "    }\n",
       "\n",
       "    .dataframe tbody tr th {\n",
       "        vertical-align: top;\n",
       "    }\n",
       "\n",
       "    .dataframe thead th {\n",
       "        text-align: right;\n",
       "    }\n",
       "</style>\n",
       "<table border=\"1\" class=\"dataframe\">\n",
       "  <thead>\n",
       "    <tr style=\"text-align: right;\">\n",
       "      <th></th>\n",
       "      <th>id</th>\n",
       "      <th>amount_tsh</th>\n",
       "      <th>date_recorded</th>\n",
       "      <th>funder</th>\n",
       "      <th>gps_height</th>\n",
       "      <th>installer</th>\n",
       "      <th>longitude</th>\n",
       "      <th>latitude</th>\n",
       "      <th>wpt_name</th>\n",
       "      <th>basin</th>\n",
       "      <th>...</th>\n",
       "      <th>management</th>\n",
       "      <th>management_group</th>\n",
       "      <th>payment</th>\n",
       "      <th>water_quality</th>\n",
       "      <th>quality_group</th>\n",
       "      <th>quantity</th>\n",
       "      <th>source</th>\n",
       "      <th>source_type</th>\n",
       "      <th>source_class</th>\n",
       "      <th>waterpoint_type</th>\n",
       "    </tr>\n",
       "  </thead>\n",
       "  <tbody>\n",
       "    <tr>\n",
       "      <th>0</th>\n",
       "      <td>29040</td>\n",
       "      <td>0</td>\n",
       "      <td>2013-02-05</td>\n",
       "      <td>Tcrs</td>\n",
       "      <td>1295</td>\n",
       "      <td>Community</td>\n",
       "      <td>30.6172</td>\n",
       "      <td>-3.57407</td>\n",
       "      <td>Ndagije</td>\n",
       "      <td>Lake Tanganyika</td>\n",
       "      <td>...</td>\n",
       "      <td>vwc</td>\n",
       "      <td>user-group</td>\n",
       "      <td>unknown</td>\n",
       "      <td>soft</td>\n",
       "      <td>good</td>\n",
       "      <td>enough</td>\n",
       "      <td>spring</td>\n",
       "      <td>spring</td>\n",
       "      <td>groundwater</td>\n",
       "      <td>improved spring</td>\n",
       "    </tr>\n",
       "    <tr>\n",
       "      <th>1</th>\n",
       "      <td>69788</td>\n",
       "      <td>50</td>\n",
       "      <td>2011-03-12</td>\n",
       "      <td>Private Individual</td>\n",
       "      <td>181</td>\n",
       "      <td>WU</td>\n",
       "      <td>38.354</td>\n",
       "      <td>-6.64235</td>\n",
       "      <td>Digali</td>\n",
       "      <td>Wami / Ruvu</td>\n",
       "      <td>...</td>\n",
       "      <td>private operator</td>\n",
       "      <td>commercial</td>\n",
       "      <td>pay per bucket</td>\n",
       "      <td>soft</td>\n",
       "      <td>good</td>\n",
       "      <td>enough</td>\n",
       "      <td>river</td>\n",
       "      <td>river/lake</td>\n",
       "      <td>surface</td>\n",
       "      <td>communal standpipe</td>\n",
       "    </tr>\n",
       "    <tr>\n",
       "      <th>2</th>\n",
       "      <td>51208</td>\n",
       "      <td>300</td>\n",
       "      <td>2011-02-26</td>\n",
       "      <td>Ki</td>\n",
       "      <td>490</td>\n",
       "      <td>Ki</td>\n",
       "      <td>37.0489</td>\n",
       "      <td>-6.75865</td>\n",
       "      <td>Shuleni</td>\n",
       "      <td>Wami / Ruvu</td>\n",
       "      <td>...</td>\n",
       "      <td>vwc</td>\n",
       "      <td>user-group</td>\n",
       "      <td>pay when scheme fails</td>\n",
       "      <td>soft</td>\n",
       "      <td>good</td>\n",
       "      <td>insufficient</td>\n",
       "      <td>machine dbh</td>\n",
       "      <td>borehole</td>\n",
       "      <td>groundwater</td>\n",
       "      <td>communal standpipe</td>\n",
       "    </tr>\n",
       "  </tbody>\n",
       "</table>\n",
       "<p>3 rows × 35 columns</p>\n",
       "</div>"
      ],
      "text/plain": [
       "      id amount_tsh date_recorded              funder gps_height  installer  \\\n",
       "0  29040          0    2013-02-05                Tcrs       1295  Community   \n",
       "1  69788         50    2011-03-12  Private Individual        181         WU   \n",
       "2  51208        300    2011-02-26                  Ki        490         Ki   \n",
       "\n",
       "  longitude latitude wpt_name            basin  ...        management  \\\n",
       "0   30.6172 -3.57407  Ndagije  Lake Tanganyika  ...               vwc   \n",
       "1    38.354 -6.64235   Digali      Wami / Ruvu  ...  private operator   \n",
       "2   37.0489 -6.75865  Shuleni      Wami / Ruvu  ...               vwc   \n",
       "\n",
       "  management_group                payment water_quality quality_group  \\\n",
       "0       user-group                unknown          soft          good   \n",
       "1       commercial         pay per bucket          soft          good   \n",
       "2       user-group  pay when scheme fails          soft          good   \n",
       "\n",
       "       quantity       source source_type source_class     waterpoint_type  \n",
       "0        enough       spring      spring  groundwater     improved spring  \n",
       "1        enough        river  river/lake      surface  communal standpipe  \n",
       "2  insufficient  machine dbh    borehole  groundwater  communal standpipe  \n",
       "\n",
       "[3 rows x 35 columns]"
      ]
     },
     "execution_count": 22,
     "metadata": {},
     "output_type": "execute_result"
    }
   ],
   "source": [
    "X_train_imputed = pd.DataFrame(data=X_train_imputed, columns=cols)\n",
    "X_train_imputed.head(3)"
   ]
  },
  {
   "cell_type": "code",
   "execution_count": 23,
   "metadata": {},
   "outputs": [
    {
     "data": {
      "text/plain": [
       "id                       0\n",
       "amount_tsh               0\n",
       "date_recorded            0\n",
       "funder                   0\n",
       "gps_height               0\n",
       "installer                0\n",
       "longitude                0\n",
       "latitude                 0\n",
       "wpt_name                 0\n",
       "basin                    0\n",
       "subvillage               0\n",
       "region                   0\n",
       "region_code              0\n",
       "district_code            0\n",
       "lga                      0\n",
       "ward                     0\n",
       "population               0\n",
       "public_meeting           0\n",
       "recorded_by              0\n",
       "scheme_management        0\n",
       "permit                   0\n",
       "construction_year        0\n",
       "extraction_type          0\n",
       "extraction_type_group    0\n",
       "extraction_type_class    0\n",
       "management               0\n",
       "management_group         0\n",
       "payment                  0\n",
       "water_quality            0\n",
       "quality_group            0\n",
       "quantity                 0\n",
       "source                   0\n",
       "source_type              0\n",
       "source_class             0\n",
       "waterpoint_type          0\n",
       "dtype: int64"
      ]
     },
     "execution_count": 23,
     "metadata": {},
     "output_type": "execute_result"
    }
   ],
   "source": [
    "X_train_imputed.isna().sum()"
   ]
  },
  {
   "cell_type": "markdown",
   "metadata": {},
   "source": [
    "### Change Datatypes"
   ]
  },
  {
   "cell_type": "code",
   "execution_count": 24,
   "metadata": {},
   "outputs": [],
   "source": [
    "#change date to datetime format\n",
    "X_train.date_recorded = pd.to_datetime(X_train.date_recorded)"
   ]
  },
  {
   "cell_type": "code",
   "execution_count": 25,
   "metadata": {},
   "outputs": [
    {
     "data": {
      "text/plain": [
       "id                                int64\n",
       "amount_tsh                      float64\n",
       "date_recorded            datetime64[ns]\n",
       "funder                           object\n",
       "gps_height                        int64\n",
       "installer                        object\n",
       "longitude                       float64\n",
       "latitude                        float64\n",
       "wpt_name                         object\n",
       "basin                            object\n",
       "subvillage                       object\n",
       "region                           object\n",
       "region_code                       int64\n",
       "district_code                     int64\n",
       "lga                              object\n",
       "ward                             object\n",
       "population                        int64\n",
       "public_meeting                   object\n",
       "recorded_by                      object\n",
       "scheme_management                object\n",
       "permit                           object\n",
       "construction_year                 int64\n",
       "extraction_type                  object\n",
       "extraction_type_group            object\n",
       "extraction_type_class            object\n",
       "management                       object\n",
       "management_group                 object\n",
       "payment                          object\n",
       "water_quality                    object\n",
       "quality_group                    object\n",
       "quantity                         object\n",
       "source                           object\n",
       "source_type                      object\n",
       "source_class                     object\n",
       "waterpoint_type                  object\n",
       "dtype: object"
      ]
     },
     "execution_count": 25,
     "metadata": {},
     "output_type": "execute_result"
    }
   ],
   "source": [
    "X_train.dtypes"
   ]
  },
  {
   "cell_type": "code",
   "execution_count": 32,
   "metadata": {},
   "outputs": [],
   "source": [
    "# creating a list of non-numeric columns\n",
    "obj_cols = ['installer', 'wpt_name', 'basin', 'subvillage', 'region', 'lga', 'ward', \n",
    "              'public_meeting', 'recorded_by', 'scheme_management', 'permit', \n",
    "               'extraction_type', 'extraction_type_group', 'extraction_type_class', 'management', \n",
    "               'management_group', 'payment', 'water_quality', 'quality_group', \n",
    "               'quantity', 'source', 'source_type', 'source_class', \n",
    "               'waterpoint_type']"
   ]
  },
  {
   "cell_type": "code",
   "execution_count": 33,
   "metadata": {},
   "outputs": [],
   "source": [
    "#creating a list of numeric columns\n",
    "num_cols = ['amount_tsh', 'gps_height', 'longitude', 'latitude', 'num_private', 'region_code', 'district_code', \n",
    "            'population', 'construction_year', 'id_code']"
   ]
  },
  {
   "cell_type": "code",
   "execution_count": 34,
   "metadata": {},
   "outputs": [],
   "source": [
    "#changing non-numeric columns to strings\n",
    "for col in obj_cols:\n",
    "            X_train[col] = X_train[col].astype(str)"
   ]
  },
  {
   "cell_type": "code",
   "execution_count": 35,
   "metadata": {},
   "outputs": [
    {
     "data": {
      "text/plain": [
       "[]"
      ]
     },
     "execution_count": 35,
     "metadata": {},
     "output_type": "execute_result"
    }
   ],
   "source": [
    "# return the name of the feature if the value of the name in the dtype list is object\n",
    "[value for value in X_train.dtypes if type(value) == object]\n",
    "# the empty list is saying that there are no object types, they have been changed to strings."
   ]
  },
  {
   "cell_type": "markdown",
   "metadata": {},
   "source": [
    "## Numerical Encoding"
   ]
  },
  {
   "cell_type": "code",
   "execution_count": 36,
   "metadata": {},
   "outputs": [],
   "source": [
    "# instantiate encoding\n",
    "le = preprocessing.LabelEncoder()\n",
    "\n",
    "#encode X_train\n",
    "for col_name in obj_cols:\n",
    "    col = col_name + '_code'\n",
    "    #print(col_name)\n",
    "    le.fit(X_train[col_name])    \n",
    "    X_train[col] = le.fit_transform(X_train[col_name])"
   ]
  },
  {
   "cell_type": "code",
   "execution_count": 37,
   "metadata": {},
   "outputs": [
    {
     "data": {
      "text/html": [
       "<div>\n",
       "<style scoped>\n",
       "    .dataframe tbody tr th:only-of-type {\n",
       "        vertical-align: middle;\n",
       "    }\n",
       "\n",
       "    .dataframe tbody tr th {\n",
       "        vertical-align: top;\n",
       "    }\n",
       "\n",
       "    .dataframe thead th {\n",
       "        text-align: right;\n",
       "    }\n",
       "</style>\n",
       "<table border=\"1\" class=\"dataframe\">\n",
       "  <thead>\n",
       "    <tr style=\"text-align: right;\">\n",
       "      <th></th>\n",
       "      <th>id</th>\n",
       "      <th>amount_tsh</th>\n",
       "      <th>date_recorded</th>\n",
       "      <th>funder</th>\n",
       "      <th>gps_height</th>\n",
       "      <th>installer</th>\n",
       "      <th>longitude</th>\n",
       "      <th>latitude</th>\n",
       "      <th>wpt_name</th>\n",
       "      <th>basin</th>\n",
       "      <th>...</th>\n",
       "      <th>management_code</th>\n",
       "      <th>management_group_code</th>\n",
       "      <th>payment_code</th>\n",
       "      <th>water_quality_code</th>\n",
       "      <th>quality_group_code</th>\n",
       "      <th>quantity_code</th>\n",
       "      <th>source_code</th>\n",
       "      <th>source_type_code</th>\n",
       "      <th>source_class_code</th>\n",
       "      <th>waterpoint_type_code</th>\n",
       "    </tr>\n",
       "  </thead>\n",
       "  <tbody>\n",
       "    <tr>\n",
       "      <th>8956</th>\n",
       "      <td>29040</td>\n",
       "      <td>0.0</td>\n",
       "      <td>2013-02-05</td>\n",
       "      <td>Tcrs</td>\n",
       "      <td>1295</td>\n",
       "      <td>Community</td>\n",
       "      <td>30.617206</td>\n",
       "      <td>-3.574069</td>\n",
       "      <td>Ndagije</td>\n",
       "      <td>Lake Tanganyika</td>\n",
       "      <td>...</td>\n",
       "      <td>7</td>\n",
       "      <td>4</td>\n",
       "      <td>6</td>\n",
       "      <td>6</td>\n",
       "      <td>2</td>\n",
       "      <td>1</td>\n",
       "      <td>8</td>\n",
       "      <td>6</td>\n",
       "      <td>0</td>\n",
       "      <td>5</td>\n",
       "    </tr>\n",
       "    <tr>\n",
       "      <th>16599</th>\n",
       "      <td>69788</td>\n",
       "      <td>50.0</td>\n",
       "      <td>2011-03-12</td>\n",
       "      <td>Private Individual</td>\n",
       "      <td>181</td>\n",
       "      <td>WU</td>\n",
       "      <td>38.354049</td>\n",
       "      <td>-6.642347</td>\n",
       "      <td>Digali</td>\n",
       "      <td>Wami / Ruvu</td>\n",
       "      <td>...</td>\n",
       "      <td>4</td>\n",
       "      <td>0</td>\n",
       "      <td>4</td>\n",
       "      <td>6</td>\n",
       "      <td>2</td>\n",
       "      <td>1</td>\n",
       "      <td>6</td>\n",
       "      <td>4</td>\n",
       "      <td>1</td>\n",
       "      <td>1</td>\n",
       "    </tr>\n",
       "    <tr>\n",
       "      <th>53788</th>\n",
       "      <td>51208</td>\n",
       "      <td>300.0</td>\n",
       "      <td>2011-02-26</td>\n",
       "      <td>Ki</td>\n",
       "      <td>490</td>\n",
       "      <td>Ki</td>\n",
       "      <td>37.048901</td>\n",
       "      <td>-6.758648</td>\n",
       "      <td>Shuleni</td>\n",
       "      <td>Wami / Ruvu</td>\n",
       "      <td>...</td>\n",
       "      <td>7</td>\n",
       "      <td>4</td>\n",
       "      <td>5</td>\n",
       "      <td>6</td>\n",
       "      <td>2</td>\n",
       "      <td>2</td>\n",
       "      <td>3</td>\n",
       "      <td>0</td>\n",
       "      <td>0</td>\n",
       "      <td>1</td>\n",
       "    </tr>\n",
       "  </tbody>\n",
       "</table>\n",
       "<p>3 rows × 58 columns</p>\n",
       "</div>"
      ],
      "text/plain": [
       "          id  amount_tsh date_recorded              funder  gps_height  \\\n",
       "8956   29040         0.0    2013-02-05                Tcrs        1295   \n",
       "16599  69788        50.0    2011-03-12  Private Individual         181   \n",
       "53788  51208       300.0    2011-02-26                  Ki         490   \n",
       "\n",
       "       installer  longitude  latitude wpt_name            basin  ...  \\\n",
       "8956   Community  30.617206 -3.574069  Ndagije  Lake Tanganyika  ...   \n",
       "16599         WU  38.354049 -6.642347   Digali      Wami / Ruvu  ...   \n",
       "53788         Ki  37.048901 -6.758648  Shuleni      Wami / Ruvu  ...   \n",
       "\n",
       "      management_code management_group_code  payment_code  water_quality_code  \\\n",
       "8956                7                     4             6                   6   \n",
       "16599               4                     0             4                   6   \n",
       "53788               7                     4             5                   6   \n",
       "\n",
       "      quality_group_code quantity_code  source_code source_type_code  \\\n",
       "8956                   2             1            8                6   \n",
       "16599                  2             1            6                4   \n",
       "53788                  2             2            3                0   \n",
       "\n",
       "      source_class_code waterpoint_type_code  \n",
       "8956                  0                    5  \n",
       "16599                 1                    1  \n",
       "53788                 0                    1  \n",
       "\n",
       "[3 rows x 58 columns]"
      ]
     },
     "execution_count": 37,
     "metadata": {},
     "output_type": "execute_result"
    }
   ],
   "source": [
    "X_train.head(3)"
   ]
  },
  {
   "cell_type": "code",
   "execution_count": 38,
   "metadata": {},
   "outputs": [
    {
     "data": {
      "text/html": [
       "<div>\n",
       "<style scoped>\n",
       "    .dataframe tbody tr th:only-of-type {\n",
       "        vertical-align: middle;\n",
       "    }\n",
       "\n",
       "    .dataframe tbody tr th {\n",
       "        vertical-align: top;\n",
       "    }\n",
       "\n",
       "    .dataframe thead th {\n",
       "        text-align: right;\n",
       "    }\n",
       "</style>\n",
       "<table border=\"1\" class=\"dataframe\">\n",
       "  <thead>\n",
       "    <tr style=\"text-align: right;\">\n",
       "      <th></th>\n",
       "      <th>id</th>\n",
       "      <th>amount_tsh</th>\n",
       "      <th>date_recorded</th>\n",
       "      <th>funder</th>\n",
       "      <th>gps_height</th>\n",
       "      <th>longitude</th>\n",
       "      <th>latitude</th>\n",
       "      <th>region_code</th>\n",
       "      <th>district_code</th>\n",
       "      <th>population</th>\n",
       "      <th>...</th>\n",
       "      <th>management_code</th>\n",
       "      <th>management_group_code</th>\n",
       "      <th>payment_code</th>\n",
       "      <th>water_quality_code</th>\n",
       "      <th>quality_group_code</th>\n",
       "      <th>quantity_code</th>\n",
       "      <th>source_code</th>\n",
       "      <th>source_type_code</th>\n",
       "      <th>source_class_code</th>\n",
       "      <th>waterpoint_type_code</th>\n",
       "    </tr>\n",
       "  </thead>\n",
       "  <tbody>\n",
       "    <tr>\n",
       "      <th>8956</th>\n",
       "      <td>29040</td>\n",
       "      <td>0.0</td>\n",
       "      <td>2013-02-05</td>\n",
       "      <td>Tcrs</td>\n",
       "      <td>1295</td>\n",
       "      <td>30.617206</td>\n",
       "      <td>-3.574069</td>\n",
       "      <td>5</td>\n",
       "      <td>1</td>\n",
       "      <td>120</td>\n",
       "      <td>...</td>\n",
       "      <td>7</td>\n",
       "      <td>4</td>\n",
       "      <td>6</td>\n",
       "      <td>6</td>\n",
       "      <td>2</td>\n",
       "      <td>1</td>\n",
       "      <td>8</td>\n",
       "      <td>6</td>\n",
       "      <td>0</td>\n",
       "      <td>5</td>\n",
       "    </tr>\n",
       "    <tr>\n",
       "      <th>16599</th>\n",
       "      <td>69788</td>\n",
       "      <td>50.0</td>\n",
       "      <td>2011-03-12</td>\n",
       "      <td>Private Individual</td>\n",
       "      <td>181</td>\n",
       "      <td>38.354049</td>\n",
       "      <td>-6.642347</td>\n",
       "      <td>14</td>\n",
       "      <td>1</td>\n",
       "      <td>50</td>\n",
       "      <td>...</td>\n",
       "      <td>4</td>\n",
       "      <td>0</td>\n",
       "      <td>4</td>\n",
       "      <td>6</td>\n",
       "      <td>2</td>\n",
       "      <td>1</td>\n",
       "      <td>6</td>\n",
       "      <td>4</td>\n",
       "      <td>1</td>\n",
       "      <td>1</td>\n",
       "    </tr>\n",
       "    <tr>\n",
       "      <th>53788</th>\n",
       "      <td>51208</td>\n",
       "      <td>300.0</td>\n",
       "      <td>2011-02-26</td>\n",
       "      <td>Ki</td>\n",
       "      <td>490</td>\n",
       "      <td>37.048901</td>\n",
       "      <td>-6.758648</td>\n",
       "      <td>11</td>\n",
       "      <td>1</td>\n",
       "      <td>500</td>\n",
       "      <td>...</td>\n",
       "      <td>7</td>\n",
       "      <td>4</td>\n",
       "      <td>5</td>\n",
       "      <td>6</td>\n",
       "      <td>2</td>\n",
       "      <td>2</td>\n",
       "      <td>3</td>\n",
       "      <td>0</td>\n",
       "      <td>0</td>\n",
       "      <td>1</td>\n",
       "    </tr>\n",
       "  </tbody>\n",
       "</table>\n",
       "<p>3 rows × 34 columns</p>\n",
       "</div>"
      ],
      "text/plain": [
       "          id  amount_tsh date_recorded              funder  gps_height  \\\n",
       "8956   29040         0.0    2013-02-05                Tcrs        1295   \n",
       "16599  69788        50.0    2011-03-12  Private Individual         181   \n",
       "53788  51208       300.0    2011-02-26                  Ki         490   \n",
       "\n",
       "       longitude  latitude  region_code  district_code  population  ...  \\\n",
       "8956   30.617206 -3.574069            5              1         120  ...   \n",
       "16599  38.354049 -6.642347           14              1          50  ...   \n",
       "53788  37.048901 -6.758648           11              1         500  ...   \n",
       "\n",
       "       management_code  management_group_code  payment_code  \\\n",
       "8956                 7                      4             6   \n",
       "16599                4                      0             4   \n",
       "53788                7                      4             5   \n",
       "\n",
       "       water_quality_code  quality_group_code  quantity_code  source_code  \\\n",
       "8956                    6                   2              1            8   \n",
       "16599                   6                   2              1            6   \n",
       "53788                   6                   2              2            3   \n",
       "\n",
       "       source_type_code  source_class_code  waterpoint_type_code  \n",
       "8956                  6                  0                     5  \n",
       "16599                 4                  1                     1  \n",
       "53788                 0                  0                     1  \n",
       "\n",
       "[3 rows x 34 columns]"
      ]
     },
     "execution_count": 38,
     "metadata": {},
     "output_type": "execute_result"
    }
   ],
   "source": [
    "X_train_encoded = X_train.drop(columns=obj_cols)\n",
    "\n",
    "X_train_encoded.head(3)"
   ]
  },
  {
   "cell_type": "code",
   "execution_count": 47,
   "metadata": {},
   "outputs": [
    {
     "name": "stderr",
     "output_type": "stream",
     "text": [
      "/opt/anaconda3/lib/python3.7/site-packages/ipykernel_launcher.py:2: SettingWithCopyWarning: \n",
      "A value is trying to be set on a copy of a slice from a DataFrame.\n",
      "Try using .loc[row_indexer,col_indexer] = value instead\n",
      "\n",
      "See the caveats in the documentation: https://pandas.pydata.org/pandas-docs/stable/user_guide/indexing.html#returning-a-view-versus-a-copy\n",
      "  \n"
     ]
    },
    {
     "data": {
      "text/html": [
       "<div>\n",
       "<style scoped>\n",
       "    .dataframe tbody tr th:only-of-type {\n",
       "        vertical-align: middle;\n",
       "    }\n",
       "\n",
       "    .dataframe tbody tr th {\n",
       "        vertical-align: top;\n",
       "    }\n",
       "\n",
       "    .dataframe thead th {\n",
       "        text-align: right;\n",
       "    }\n",
       "</style>\n",
       "<table border=\"1\" class=\"dataframe\">\n",
       "  <thead>\n",
       "    <tr style=\"text-align: right;\">\n",
       "      <th></th>\n",
       "      <th>id</th>\n",
       "      <th>status_group</th>\n",
       "    </tr>\n",
       "  </thead>\n",
       "  <tbody>\n",
       "    <tr>\n",
       "      <th>8956</th>\n",
       "      <td>29040</td>\n",
       "      <td>0</td>\n",
       "    </tr>\n",
       "    <tr>\n",
       "      <th>16599</th>\n",
       "      <td>69788</td>\n",
       "      <td>0</td>\n",
       "    </tr>\n",
       "    <tr>\n",
       "      <th>53788</th>\n",
       "      <td>51208</td>\n",
       "      <td>2</td>\n",
       "    </tr>\n",
       "  </tbody>\n",
       "</table>\n",
       "</div>"
      ],
      "text/plain": [
       "          id  status_group\n",
       "8956   29040             0\n",
       "16599  69788             0\n",
       "53788  51208             2"
      ]
     },
     "execution_count": 47,
     "metadata": {},
     "output_type": "execute_result"
    }
   ],
   "source": [
    "#encode y_train\n",
    "y_train['status_group'] = le.fit_transform(y_train['status_group'])\n",
    "y_train_encoded = y_train\n",
    "y_train_encoded.head(3)"
   ]
  },
  {
   "cell_type": "markdown",
   "metadata": {},
   "source": [
    "## Export Pickle File"
   ]
  },
  {
   "cell_type": "code",
   "execution_count": 48,
   "metadata": {},
   "outputs": [],
   "source": [
    "import pickle\n",
    "X_train_encoded.to_pickle('X_train_encoded.pickle')\n",
    "y_train_encoded.to_pickle('y_train_encoded.pickle')"
   ]
  },
  {
   "cell_type": "code",
   "execution_count": null,
   "metadata": {},
   "outputs": [],
   "source": []
  }
 ],
 "metadata": {
  "kernelspec": {
   "display_name": "Python 3",
   "language": "python",
   "name": "python3"
  },
  "language_info": {
   "codemirror_mode": {
    "name": "ipython",
    "version": 3
   },
   "file_extension": ".py",
   "mimetype": "text/x-python",
   "name": "python",
   "nbconvert_exporter": "python",
   "pygments_lexer": "ipython3",
   "version": "3.7.6"
  }
 },
 "nbformat": 4,
 "nbformat_minor": 4
}
