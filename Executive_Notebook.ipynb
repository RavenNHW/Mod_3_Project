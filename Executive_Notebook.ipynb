{
 "cells": [
  {
   "cell_type": "markdown",
   "metadata": {},
   "source": [
    "# Executive Notebook: Tanzania Water Pump Project"
   ]
  },
  {
   "cell_type": "markdown",
   "metadata": {},
   "source": [
    "Raven Welch & Clair Marie Wholean"
   ]
  },
  {
   "cell_type": "markdown",
   "metadata": {},
   "source": [
    "__Project Goal__\\\n",
    "Predict water pump condition for waterpoints in Tanania. The customer is companies managing the waterpoints. Because a large percentage become non-functional in 2 years, they are looking to find out how to prevent pumps from becoming non-functional.  For this reason the analysis is focused on predicting the category \"functional, needs repair.\""
   ]
  },
  {
   "cell_type": "markdown",
   "metadata": {},
   "source": [
    "## Imports"
   ]
  },
  {
   "cell_type": "code",
   "execution_count": 2,
   "metadata": {},
   "outputs": [],
   "source": [
    "import pandas as pd\n",
    "import numpy as np\n",
    "import seaborn as sns\n",
    "import matplotlib.pyplot as plt\n",
    "from sklearn.model_selection import train_test_split\n",
    "from sklearn.impute import SimpleImputer\n",
    "from sklearn import preprocessing\n",
    "import plotly.express as px\n",
    "from sklearn.ensemble import RandomForestClassifier\n",
    "from sklearn.tree import DecisionTreeClassifier\n",
    "from sklearn.naive_bayes import GaussianNB\n",
    "from sklearn.model_selection import train_test_split\n",
    "from sklearn.model_selection import GridSearchCV\n",
    "from sklearn.metrics import plot_confusion_matrix \n",
    "from sklearn import tree\n",
    "from sklearn import preprocessing\n",
    "from sklearn.preprocessing import StandardScaler\n",
    "from sklearn.pipeline import make_pipeline\n",
    "from sklearn.linear_model import LogisticRegression\n",
    "from sklearn.preprocessing import MinMaxScaler\n",
    "from sklearn.metrics import classification_report"
   ]
  },
  {
   "cell_type": "markdown",
   "metadata": {},
   "source": [
    "## Preprocessing"
   ]
  },
  {
   "cell_type": "markdown",
   "metadata": {},
   "source": [
    "### Functions"
   ]
  },
  {
   "cell_type": "code",
   "execution_count": 3,
   "metadata": {},
   "outputs": [],
   "source": [
    "def impute_dataframe(dataframe):\n",
    "    \"\"\"Function takes in a dataframe and uses simple imputer to insert the \n",
    "    most frequent values.\n",
    "    column_list = list of columns in the dataframe\"\"\"    \n",
    "    cols = list(dataframe.columns)   \n",
    "    from sklearn.impute import SimpleImputer     \n",
    "    SI = SimpleImputer(missing_values=np.nan, strategy='most_frequent')   \n",
    "    df_imputed = SI.fit_transform(dataframe)\n",
    "    df_imputed = pd.DataFrame(data=df_imputed, columns=cols)\n",
    "    return df_imputed\n",
    "\n",
    "def change_column_type(dataframe, col_list):\n",
    "    \"\"\"Change certain columns in a dataframe to string\n",
    "    col_list = the columns to be changed\"\"\"\n",
    "    for col in col_list:\n",
    "            dataframe[col] = dataframe[col].astype(str)\n",
    "            \n",
    "def one_hot_encoder(dataframe):\n",
    "    \"\"\"Function to one-hot encode a dataframe given a list of  columns of string or float (object) type.\n",
    "    o_cols = object-type columns to be one-hot encoded\"\"\"   \n",
    "    from sklearn.preprocessing import OneHotEncoder\n",
    "    from sklearn.compose import ColumnTransformer\n",
    "    from sklearn.compose import make_column_selector\n",
    "    ohe = OneHotEncoder(drop='first', sparse=False, handle_unknown='error')   \n",
    "    ct = ColumnTransformer(transformers=\n",
    "                           [('ohe', OneHotEncoder(drop='first', sparse=False, handle_unknown='error'),\n",
    "                             make_column_selector(dtype_include=object))])\n",
    "    dataframe = ct.fit_transform(dataframe)\n",
    "    dataframe = pd.DataFrame(dataframe)\n",
    "    return dataframe  "
   ]
  },
  {
   "cell_type": "markdown",
   "metadata": {},
   "source": [
    "### Process Data"
   ]
  },
  {
   "cell_type": "code",
   "execution_count": 4,
   "metadata": {},
   "outputs": [],
   "source": [
    "df = pd.read_csv('data/tanzania_values.csv')\n",
    "df2 = pd.read_csv('data/tanzania_labels.csv')\n",
    "\n",
    "#selected only columns related to the pump & water because the business goal is to prevent \n",
    "# pumps from becoming non-functional. \n",
    "df = df[['amount_tsh', 'permit', 'extraction_type', 'water_quality', 'quantity', \n",
    "                   'source', 'waterpoint_type']]\n",
    "\n",
    "#missing values\n",
    "df = impute_dataframe(df)\n",
    "\n",
    "#list of the categorical columns that will be made string format.\n",
    "obj_cols = ['permit', 'extraction_type', 'water_quality', 'quantity', 'source', 'waterpoint_type']\n",
    "    \n",
    "change_column_type(df, obj_cols)\n",
    "change_column_type(df, obj_cols)\n",
    "\n",
    "df = one_hot_encoder(df)\n",
    "\n",
    "X_train, X_test, y_train, y_test = train_test_split(df, df2, test_size = 0.25, random_state = 47)\n",
    "\n",
    "y_train = y_train['status_group']\n",
    "y_test = y_test['status_group']"
   ]
  },
  {
   "cell_type": "code",
   "execution_count": 10,
   "metadata": {},
   "outputs": [
    {
     "data": {
      "text/plain": [
       "(14850, 141)"
      ]
     },
     "execution_count": 10,
     "metadata": {},
     "output_type": "execute_result"
    }
   ],
   "source": [
    "X_train.shape # 44550\n",
    "X_test.shape # 14850 "
   ]
  },
  {
   "cell_type": "markdown",
   "metadata": {},
   "source": [
    "# Modeling"
   ]
  },
  {
   "cell_type": "markdown",
   "metadata": {},
   "source": [
    "## Iteration 1: Naive Bayes"
   ]
  },
  {
   "cell_type": "code",
   "execution_count": 41,
   "metadata": {},
   "outputs": [],
   "source": [
    "NB = GaussianNB()"
   ]
  },
  {
   "cell_type": "code",
   "execution_count": 42,
   "metadata": {},
   "outputs": [
    {
     "data": {
      "text/plain": [
       "GaussianNB()"
      ]
     },
     "execution_count": 42,
     "metadata": {},
     "output_type": "execute_result"
    }
   ],
   "source": [
    "NB.fit(X_train, y_train)"
   ]
  },
  {
   "cell_type": "code",
   "execution_count": 45,
   "metadata": {},
   "outputs": [
    {
     "data": {
      "text/plain": [
       "0.10545454545454545"
      ]
     },
     "execution_count": 45,
     "metadata": {},
     "output_type": "execute_result"
    }
   ],
   "source": [
    "NB.score(X_train, y_train)"
   ]
  },
  {
   "cell_type": "code",
   "execution_count": 46,
   "metadata": {},
   "outputs": [
    {
     "data": {
      "text/plain": [
       "0.10632996632996633"
      ]
     },
     "execution_count": 46,
     "metadata": {},
     "output_type": "execute_result"
    }
   ],
   "source": [
    "NB.score(X_test, y_test)"
   ]
  },
  {
   "cell_type": "code",
   "execution_count": 47,
   "metadata": {},
   "outputs": [
    {
     "data": {
      "image/png": "[encoded data removed]",
      "text/plain": [
       "<Figure size 432x288 with 2 Axes>"
      ]
     },
     "metadata": {
      "needs_background": "light"
     },
     "output_type": "display_data"
    }
   ],
   "source": [
    "plot_confusion_matrix(NB, X_test, y_test, cmap = \"Blues\", xticks_rotation  = \"vertical\");"
   ]
  },
  {
   "cell_type": "markdown",
   "metadata": {},
   "source": [
    "__Summary:__\n",
    "- There were more errors than correct predictions for the column we are interested in, functional needs repair, so this model is not good."
   ]
  },
  {
   "cell_type": "markdown",
   "metadata": {},
   "source": [
    "## Iteration 2: Forest 2"
   ]
  },
  {
   "cell_type": "code",
   "execution_count": 48,
   "metadata": {},
   "outputs": [
    {
     "data": {
      "text/plain": [
       "0.6686868686868687"
      ]
     },
     "execution_count": 48,
     "metadata": {},
     "output_type": "execute_result"
    }
   ],
   "source": [
    "forest2 = RandomForestClassifier(bootstrap = True, criterion = 'gini', max_features = 10, max_depth = 10, min_samples_leaf = 20, min_samples_split = 3, random_state = 47)\n",
    "forest2.fit(X_train, y_train)\n",
    "forest2.score(X_test, y_test)"
   ]
  },
  {
   "cell_type": "markdown",
   "metadata": {},
   "source": [
    "__Summary:__\n",
    "- This model is okay. We think we can do better."
   ]
  },
  {
   "cell_type": "markdown",
   "metadata": {},
   "source": [
    "## Iteration 3: Forest 3"
   ]
  },
  {
   "cell_type": "code",
   "execution_count": 49,
   "metadata": {},
   "outputs": [
    {
     "data": {
      "text/plain": [
       "0.7057912457912457"
      ]
     },
     "execution_count": 49,
     "metadata": {},
     "output_type": "execute_result"
    }
   ],
   "source": [
    "forest3 = RandomForestClassifier(bootstrap = True, criterion = 'gini', random_state = 47, max_depth = 15, min_samples_leaf = 10, min_samples_split = 2)\n",
    "forest3.fit(X_train, y_train)\n",
    "forest3.score(X_test, y_test)"
   ]
  },
  {
   "cell_type": "code",
   "execution_count": 50,
   "metadata": {},
   "outputs": [],
   "source": [
    "y_test_pred = forest3.predict(X_test)"
   ]
  },
  {
   "cell_type": "code",
   "execution_count": 100,
   "metadata": {},
   "outputs": [
    {
     "data": {
      "image/png": "[encoded data removed]",
      "text/plain": [
       "<Figure size 432x288 with 2 Axes>"
      ]
     },
     "metadata": {
      "needs_background": "light"
     },
     "output_type": "display_data"
    }
   ],
   "source": [
    "plot_confusion_matrix(forest3, X_test, y_test, cmap = \"Reds\", xticks_rotation  = \"vertical\");"
   ]
  },
  {
   "cell_type": "markdown",
   "metadata": {},
   "source": [
    "__Summary:__\n",
    "- The functional, needs repair category had 0 correct predictions.\n",
    "- Try other methods."
   ]
  },
  {
   "cell_type": "markdown",
   "metadata": {},
   "source": [
    "### Scaling"
   ]
  },
  {
   "cell_type": "code",
   "execution_count": 54,
   "metadata": {},
   "outputs": [],
   "source": [
    "ss = StandardScaler()\n",
    "\n",
    "X_train_scales = ss.fit_transform(X_train)\n",
    "X_test_scales = ss.transform(X_test)"
   ]
  },
  {
   "cell_type": "code",
   "execution_count": 55,
   "metadata": {},
   "outputs": [
    {
     "data": {
      "text/plain": [
       "RandomForestClassifier(max_depth=15, min_samples_leaf=10, random_state=47)"
      ]
     },
     "execution_count": 55,
     "metadata": {},
     "output_type": "execute_result"
    }
   ],
   "source": [
    "forest3.fit(X_train_scales, y_train)"
   ]
  },
  {
   "cell_type": "code",
   "execution_count": 56,
   "metadata": {},
   "outputs": [
    {
     "data": {
      "text/plain": [
       "0.7057912457912457"
      ]
     },
     "execution_count": 56,
     "metadata": {},
     "output_type": "execute_result"
    }
   ],
   "source": [
    "forest3.score(X_test_scales, y_test)"
   ]
  },
  {
   "cell_type": "code",
   "execution_count": 95,
   "metadata": {},
   "outputs": [
    {
     "name": "stdout",
     "output_type": "stream",
     "text": [
      "                         precision    recall  f1-score   support\n",
      "\n",
      "             functional       0.54      1.00      0.70      8022\n",
      "functional needs repair       0.00      0.00      0.00      1106\n",
      "         non functional       0.00      0.00      0.00      5722\n",
      "\n",
      "               accuracy                           0.54     14850\n",
      "              macro avg       0.18      0.33      0.23     14850\n",
      "           weighted avg       0.29      0.54      0.38     14850\n",
      "\n"
     ]
    },
    {
     "name": "stderr",
     "output_type": "stream",
     "text": [
      "/opt/anaconda3/lib/python3.7/site-packages/sklearn/metrics/_classification.py:1221: UndefinedMetricWarning: Precision and F-score are ill-defined and being set to 0.0 in labels with no predicted samples. Use `zero_division` parameter to control this behavior.\n",
      "  _warn_prf(average, modifier, msg_start, len(result))\n"
     ]
    }
   ],
   "source": [
    "y_pred = forest3.predict(X_test)\n",
    "print(classification_report(y_test, y_pred, \n",
    "                            target_names = ['functional', 'functional needs repair', 'non functional']))"
   ]
  },
  {
   "cell_type": "markdown",
   "metadata": {},
   "source": [
    "__Summary:__\n",
    "- This model seems to be decent from the accuracy score, but the precision shows that it is correctly predicting 2/3 categories 0% of the time. We'll try some hyperparameter tuning."
   ]
  },
  {
   "cell_type": "markdown",
   "metadata": {},
   "source": [
    "### Gridsearch"
   ]
  },
  {
   "cell_type": "code",
   "execution_count": 73,
   "metadata": {},
   "outputs": [
    {
     "data": {
      "text/plain": [
       "GridSearchCV(estimator=RandomForestClassifier(max_depth=15, min_samples_leaf=10,\n",
       "                                              random_state=47),\n",
       "             param_grid={'bootstrap': [True], 'criterion': ['gini', 'entropy'],\n",
       "                         'max_depth': [3, 5, 10], 'max_features': [5, 10],\n",
       "                         'min_samples_leaf': [20, 50],\n",
       "                         'min_samples_split': [2, 50], 'random_state': [47]})"
      ]
     },
     "execution_count": 73,
     "metadata": {},
     "output_type": "execute_result"
    }
   ],
   "source": [
    "# the cv parameter is not passed, so the default of 5 folds is used for cross-validation. \n",
    "params = {\n",
    "    'random_state': [47],\n",
    "    'criterion' : [\"gini\", \"entropy\"],\n",
    "    'max_depth' : [3, 5, 10],\n",
    "    'min_samples_split' : [2, 50],\n",
    "    'min_samples_leaf' : [20, 50],\n",
    "    'max_features' : [5, 10],\n",
    "    'bootstrap' : [True],\n",
    "}\n",
    "\n",
    "gs = GridSearchCV(forest3, params)\n",
    "gs.fit(X_train, y_train)"
   ]
  },
  {
   "cell_type": "code",
   "execution_count": 74,
   "metadata": {},
   "outputs": [
    {
     "data": {
      "text/plain": [
       "{'bootstrap': True,\n",
       " 'criterion': 'entropy',\n",
       " 'max_depth': 10,\n",
       " 'max_features': 10,\n",
       " 'min_samples_leaf': 20,\n",
       " 'min_samples_split': 2,\n",
       " 'random_state': 47}"
      ]
     },
     "execution_count": 74,
     "metadata": {},
     "output_type": "execute_result"
    }
   ],
   "source": [
    "gs.best_params_"
   ]
  },
  {
   "cell_type": "markdown",
   "metadata": {},
   "source": [
    "### Re-do Forest 3 with Params from GridSearch"
   ]
  },
  {
   "cell_type": "code",
   "execution_count": 75,
   "metadata": {},
   "outputs": [
    {
     "data": {
      "text/plain": [
       "0.6674074074074074"
      ]
     },
     "execution_count": 75,
     "metadata": {},
     "output_type": "execute_result"
    }
   ],
   "source": [
    "forest3A = RandomForestClassifier(bootstrap = True, criterion = 'entropy', random_state = 47, max_depth = 10, min_samples_leaf = 20, min_samples_split = 2)\n",
    "forest3A.fit(X_train, y_train)\n",
    "forest3A.score(X_test, y_test)"
   ]
  },
  {
   "cell_type": "code",
   "execution_count": 96,
   "metadata": {},
   "outputs": [
    {
     "name": "stdout",
     "output_type": "stream",
     "text": [
      "                         precision    recall  f1-score   support\n",
      "\n",
      "             functional       0.64      0.94      0.76      8022\n",
      "functional needs repair       0.00      0.00      0.00      1106\n",
      "         non functional       0.80      0.41      0.54      5722\n",
      "\n",
      "               accuracy                           0.67     14850\n",
      "              macro avg       0.48      0.45      0.43     14850\n",
      "           weighted avg       0.65      0.67      0.62     14850\n",
      "\n"
     ]
    },
    {
     "name": "stderr",
     "output_type": "stream",
     "text": [
      "/opt/anaconda3/lib/python3.7/site-packages/sklearn/metrics/_classification.py:1221: UndefinedMetricWarning: Precision and F-score are ill-defined and being set to 0.0 in labels with no predicted samples. Use `zero_division` parameter to control this behavior.\n",
      "  _warn_prf(average, modifier, msg_start, len(result))\n"
     ]
    }
   ],
   "source": [
    "y_pred = forest3A.predict(X_test)\n",
    "print(classification_report(y_test, y_pred, \n",
    "                            target_names = ['functional', 'functional needs repair', 'non functional']))"
   ]
  },
  {
   "cell_type": "markdown",
   "metadata": {},
   "source": [
    "__Summary:__\n",
    "- This set of parameters made the model accuracy worse, but the precision is better. \n",
    "- Functional was correctly predicted 64% of the time. \n",
    "- Non-functional was correctly predicted 80% of the time. \n",
    "- Functional needs repair was correctly predicted 0% of the time. This is our priority category, so let's keep going. \n",
    "- We'll try a grid search with a different set of hyperparameters."
   ]
  },
  {
   "cell_type": "markdown",
   "metadata": {},
   "source": [
    "### Making Another Round of Params"
   ]
  },
  {
   "cell_type": "code",
   "execution_count": 76,
   "metadata": {},
   "outputs": [
    {
     "data": {
      "text/plain": [
       "GridSearchCV(estimator=RandomForestClassifier(max_depth=15, min_samples_leaf=10,\n",
       "                                              random_state=47),\n",
       "             param_grid={'bootstrap': [True], 'criterion': ['gini'],\n",
       "                         'max_depth': [10, 15], 'max_features': [10, 15],\n",
       "                         'min_samples_leaf': [10, 20],\n",
       "                         'min_samples_split': [2, 5], 'random_state': [47]})"
      ]
     },
     "execution_count": 76,
     "metadata": {},
     "output_type": "execute_result"
    }
   ],
   "source": [
    "# parmas2 goes into the pipeline \n",
    "# the cv parameter is not passed, so the default of 5 folds is used for cross-validation. \n",
    "params2 = {\n",
    "    'bootstrap' : [True],\n",
    "    'random_state': [47],\n",
    "    'criterion' : [\"gini\"],  \n",
    "    'max_depth' : [10, 15],\n",
    "    'min_samples_split' : [2, 5],\n",
    "    'min_samples_leaf' : [10, 20],\n",
    "    'max_features' : [10, 15],\n",
    "}\n",
    "forest = RandomForestClassifier()\n",
    "\n",
    "gs2 = GridSearchCV(forest3, params2)\n",
    "gs2.fit(X_train, y_train)"
   ]
  },
  {
   "cell_type": "code",
   "execution_count": 78,
   "metadata": {},
   "outputs": [
    {
     "data": {
      "text/plain": [
       "{'bootstrap': True,\n",
       " 'criterion': 'gini',\n",
       " 'max_depth': 15,\n",
       " 'max_features': 15,\n",
       " 'min_samples_leaf': 10,\n",
       " 'min_samples_split': 2,\n",
       " 'random_state': 47}"
      ]
     },
     "execution_count": 78,
     "metadata": {},
     "output_type": "execute_result"
    }
   ],
   "source": [
    "#Use this cell for best model\n",
    "gs2.best_params_"
   ]
  },
  {
   "cell_type": "markdown",
   "metadata": {},
   "source": [
    "### Re-do Forest 3 with Params2 from GridSearch"
   ]
  },
  {
   "cell_type": "code",
   "execution_count": 79,
   "metadata": {},
   "outputs": [
    {
     "data": {
      "text/plain": [
       "0.7057912457912457"
      ]
     },
     "execution_count": 79,
     "metadata": {},
     "output_type": "execute_result"
    }
   ],
   "source": [
    "forest3B = RandomForestClassifier(bootstrap = True, criterion = 'gini', random_state = 47, max_depth = 15, min_samples_leaf = 10, min_samples_split = 2)\n",
    "forest3B.fit(X_train, y_train)\n",
    "forest3B.score(X_test, y_test)"
   ]
  },
  {
   "cell_type": "code",
   "execution_count": 97,
   "metadata": {},
   "outputs": [
    {
     "name": "stdout",
     "output_type": "stream",
     "text": [
      "                         precision    recall  f1-score   support\n",
      "\n",
      "             functional       0.67      0.93      0.78      8022\n",
      "functional needs repair       0.00      0.00      0.00      1106\n",
      "         non functional       0.81      0.53      0.64      5722\n",
      "\n",
      "               accuracy                           0.71     14850\n",
      "              macro avg       0.49      0.49      0.47     14850\n",
      "           weighted avg       0.67      0.71      0.67     14850\n",
      "\n"
     ]
    },
    {
     "name": "stderr",
     "output_type": "stream",
     "text": [
      "/opt/anaconda3/lib/python3.7/site-packages/sklearn/metrics/_classification.py:1221: UndefinedMetricWarning: Precision and F-score are ill-defined and being set to 0.0 in labels with no predicted samples. Use `zero_division` parameter to control this behavior.\n",
      "  _warn_prf(average, modifier, msg_start, len(result))\n"
     ]
    }
   ],
   "source": [
    "y_pred = forest3B.predict(X_test)\n",
    "print(classification_report(y_test, y_pred, \n",
    "                            target_names = ['functional', 'functional needs repair', 'non functional']))"
   ]
  },
  {
   "cell_type": "markdown",
   "metadata": {},
   "source": [
    "__Summary:__\n",
    "- This model is pretty good, but we're still getting 0% prediction for functional needs repair. \n",
    "- Now we'll put it into a pipeline with scaling."
   ]
  },
  {
   "cell_type": "markdown",
   "metadata": {},
   "source": [
    "## Iteration 4: Pipeline - Best Model"
   ]
  },
  {
   "cell_type": "code",
   "execution_count": 83,
   "metadata": {},
   "outputs": [
    {
     "data": {
      "text/plain": [
       "0.7132659932659933"
      ]
     },
     "execution_count": 83,
     "metadata": {},
     "output_type": "execute_result"
    }
   ],
   "source": [
    "#pipeline is running a classifier that has specified params\n",
    "\n",
    "pipe1 = make_pipeline(\n",
    "    MinMaxScaler(),\n",
    "    RandomForestClassifier(bootstrap = True, criterion = 'gini', \n",
    "                           random_state = 47, max_depth = 15, max_features = 15, \n",
    "                           min_samples_leaf = 10, min_samples_split = 2))\n",
    "\n",
    "pipe1.fit(X_train, y_train)\n",
    "pipe1.score(X_test, y_test)"
   ]
  },
  {
   "cell_type": "code",
   "execution_count": 98,
   "metadata": {},
   "outputs": [
    {
     "name": "stdout",
     "output_type": "stream",
     "text": [
      "                         precision    recall  f1-score   support\n",
      "\n",
      "             functional       0.68      0.92      0.78      8022\n",
      "functional needs repair       0.52      0.03      0.05      1106\n",
      "         non functional       0.81      0.55      0.65      5722\n",
      "\n",
      "               accuracy                           0.71     14850\n",
      "              macro avg       0.67      0.50      0.50     14850\n",
      "           weighted avg       0.72      0.71      0.68     14850\n",
      "\n"
     ]
    }
   ],
   "source": [
    "y_pred = pipe1.predict(X_test)\n",
    "print(classification_report(y_test, y_pred, \n",
    "                            target_names = ['functional', 'functional needs repair', 'non functional']))"
   ]
  },
  {
   "cell_type": "markdown",
   "metadata": {},
   "source": [
    "__Summary:__\n",
    "- The RandomForest performs a little better with min-max scaler. "
   ]
  },
  {
   "cell_type": "code",
   "execution_count": 94,
   "metadata": {},
   "outputs": [
    {
     "data": {
      "text/plain": [
       "0.7330639730639731"
      ]
     },
     "execution_count": 94,
     "metadata": {},
     "output_type": "execute_result"
    }
   ],
   "source": [
    "pipe2 = make_pipeline(\n",
    "    MinMaxScaler(),\n",
    "    DecisionTreeClassifier(random_state=47))\n",
    "\n",
    "pipe2.fit(X_train, y_train)\n",
    "pipe2.score(X_test, y_test) "
   ]
  },
  {
   "cell_type": "code",
   "execution_count": 89,
   "metadata": {},
   "outputs": [
    {
     "name": "stdout",
     "output_type": "stream",
     "text": [
      "                         precision    recall  f1-score   support\n",
      "\n",
      "             functional       0.70      0.91      0.79      8022\n",
      "functional needs repair       0.48      0.11      0.18      1106\n",
      "         non functional       0.82      0.60      0.69      5722\n",
      "\n",
      "               accuracy                           0.73     14850\n",
      "              macro avg       0.67      0.54      0.56     14850\n",
      "           weighted avg       0.73      0.73      0.71     14850\n",
      "\n"
     ]
    }
   ],
   "source": [
    "y_pred = pipe2.predict(X_test)\n",
    "print(classification_report(y_test, y_pred, \n",
    "                            target_names = ['functional', 'functional needs repair', 'non functional']))"
   ]
  },
  {
   "cell_type": "markdown",
   "metadata": {},
   "source": [
    "__Summary:__\n",
    "- The decision tree performs even better with min-max scaler. \n",
    "- This is our best model in terms of overall accuracy.\n",
    "- The model correctly predicted functional pumps 70% of the time.\n",
    "- The model correctly predicted non-functional 82% of the time. \n",
    "- The model correctly predicted functional needs repair 48% of the time. This is not great, but we know that there is a class imbalance for this category. It is much improved over the forest3 model that had 0%. Since both the decision tree and random forest are predicting functional needs repair roughly equivalent to chance, this means that the class imbalance needs to be addressed and/or more data for this category is needed.\n",
    "- The random forest (pipe1) performed slightly better for functional needs repair at 52%, so this model could also be used. "
   ]
  },
  {
   "cell_type": "code",
   "execution_count": null,
   "metadata": {},
   "outputs": [],
   "source": []
  }
 ],
 "metadata": {
  "kernelspec": {
   "display_name": "Python 3",
   "language": "python",
   "name": "python3"
  },
  "language_info": {
   "codemirror_mode": {
    "name": "ipython",
    "version": 3
   },
   "file_extension": ".py",
   "mimetype": "text/x-python",
   "name": "python",
   "nbconvert_exporter": "python",
   "pygments_lexer": "ipython3",
   "version": "3.6.9"
  }
 },
 "nbformat": 4,
 "nbformat_minor": 4
}
