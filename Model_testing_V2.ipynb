{
 "cells": [
  {
   "cell_type": "code",
   "execution_count": null,
   "metadata": {},
   "outputs": [],
   "source": [
    "#using one hot encoded data\n",
    "\n",
    "import pandas as pd\n",
    "import numpy as np\n",
    "import matplotlib.pyplot as plt\n",
    "import plotly.express as px\n",
    "\n",
    "from sklearn.ensemble import RandomForestClassifier\n",
    "\n",
    "from sklearn.tree import DecisionTreeClassifier\n",
    "from sklearn.naive_bayes import GaussianNB\n",
    "from sklearn.model_selection import train_test_split\n",
    "from sklearn.metrics import plot_confusion_matrix \n",
    "\n",
    "from sklearn import tree\n",
    "from sklearn import preprocessing"
   ]
  },
  {
   "cell_type": "code",
   "execution_count": 73,
   "metadata": {},
   "outputs": [],
   "source": [
    "X = pd.read_pickle(\"data/X_train_ohe.pickle\")\n",
    "y = pd.read_pickle(\"y_train_encoded.pickle\")\n",
    "\n",
    "# cols = [c for c in X.columns if c.split('_')[-1] != 'code']\n",
    "\n",
    "# lst = ['gps_height', 'longitude', 'latitude', 'population']\n",
    "# for i in lst:\n",
    "#     cols.remove(i)\n",
    "    \n",
    "# X = X.drop(columns = cols)\n",
    "\n",
    "y = y['status_group']\n",
    "\n",
    "X_train, X_test, y_train, y_test = train_test_split(X, y)"
   ]
  },
  {
   "cell_type": "code",
   "execution_count": 74,
   "metadata": {},
   "outputs": [],
   "source": [
    "NB = GaussianNB()"
   ]
  },
  {
   "cell_type": "code",
   "execution_count": 75,
   "metadata": {},
   "outputs": [
    {
     "data": {
      "text/plain": [
       "GaussianNB()"
      ]
     },
     "execution_count": 75,
     "metadata": {},
     "output_type": "execute_result"
    }
   ],
   "source": [
    "NB.fit(X_train, y_train)"
   ]
  },
  {
   "cell_type": "code",
   "execution_count": 76,
   "metadata": {},
   "outputs": [
    {
     "data": {
      "text/plain": [
       "0.6009816832275829"
      ]
     },
     "execution_count": 76,
     "metadata": {},
     "output_type": "execute_result"
    }
   ],
   "source": [
    "NB.score(X_train, y_train)"
   ]
  },
  {
   "cell_type": "code",
   "execution_count": 77,
   "metadata": {},
   "outputs": [
    {
     "data": {
      "text/plain": [
       "0.6129466690608727"
      ]
     },
     "execution_count": 77,
     "metadata": {},
     "output_type": "execute_result"
    }
   ],
   "source": [
    "NB.score(X_test, y_test)"
   ]
  },
  {
   "cell_type": "code",
   "execution_count": 78,
   "metadata": {},
   "outputs": [
    {
     "data": {
      "text/plain": [
       "<sklearn.metrics._plot.confusion_matrix.ConfusionMatrixDisplay at 0x2a42576e0b8>"
      ]
     },
     "execution_count": 78,
     "metadata": {},
     "output_type": "execute_result"
    },
    {
     "data": {
      "image/png": "[encoded data removed]",
      "text/plain": [
       "<Figure size 432x288 with 2 Axes>"
      ]
     },
     "metadata": {
      "needs_background": "light"
     },
     "output_type": "display_data"
    }
   ],
   "source": [
    "plot_confusion_matrix(NB, X_test, y_test, cmap = \"Blues\", xticks_rotation  = \"vertical\")"
   ]
  },
  {
   "cell_type": "code",
   "execution_count": 12,
   "metadata": {},
   "outputs": [
    {
     "data": {
      "text/plain": [
       "0.7363081343149578"
      ]
     },
     "execution_count": 12,
     "metadata": {},
     "output_type": "execute_result"
    }
   ],
   "source": [
    "dt = DecisionTreeClassifier()\n",
    "\n",
    "dt_model = dt.fit(X_train, y_train)\n",
    "dt_model.score(X_test, y_test)"
   ]
  },
  {
   "cell_type": "code",
   "execution_count": 13,
   "metadata": {},
   "outputs": [
    {
     "data": {
      "text/plain": [
       "0.7862273298617346"
      ]
     },
     "execution_count": 13,
     "metadata": {},
     "output_type": "execute_result"
    }
   ],
   "source": [
    "forest1 = RandomForestClassifier(random_state = 47)\n",
    "forest1.fit(X_train, y_train)\n",
    "forest1.score(X_test, y_test)"
   ]
  },
  {
   "cell_type": "code",
   "execution_count": 14,
   "metadata": {},
   "outputs": [],
   "source": [
    "from sklearn.model_selection import GridSearchCV"
   ]
  },
  {
   "cell_type": "code",
   "execution_count": 15,
   "metadata": {},
   "outputs": [
    {
     "ename": "NameError",
     "evalue": "name 'forest' is not defined",
     "output_type": "error",
     "traceback": [
      "\u001b[1;31m---------------------------------------------------------------------------\u001b[0m",
      "\u001b[1;31mNameError\u001b[0m                                 Traceback (most recent call last)",
      "\u001b[1;32m<ipython-input-15-c8cc36308539>\u001b[0m in \u001b[0;36m<module>\u001b[1;34m\u001b[0m\n\u001b[0;32m      9\u001b[0m }\n\u001b[0;32m     10\u001b[0m \u001b[1;33m\u001b[0m\u001b[0m\n\u001b[1;32m---> 11\u001b[1;33m \u001b[0mgs\u001b[0m \u001b[1;33m=\u001b[0m \u001b[0mGridSearchCV\u001b[0m\u001b[1;33m(\u001b[0m\u001b[0mforest\u001b[0m\u001b[1;33m,\u001b[0m \u001b[0mparams\u001b[0m\u001b[1;33m)\u001b[0m\u001b[1;33m\u001b[0m\u001b[1;33m\u001b[0m\u001b[0m\n\u001b[0m",
      "\u001b[1;31mNameError\u001b[0m: name 'forest' is not defined"
     ]
    }
   ],
   "source": [
    "params = {\n",
    "    'random_state': 47,\n",
    "    'criterion' : [\"gini\", \"entropy\"],\n",
    "    'max_depth' : [3, 5, 10],\n",
    "    'min_samples_split' : [2, 50],\n",
    "    'min_samples_leaf' : [20, 50],\n",
    "    'max_features' : [5, 10],\n",
    "    'bootstrap' : [True],\n",
    "}\n",
    "\n",
    "gs = GridSearchCV(forest1, params)"
   ]
  },
  {
   "cell_type": "code",
   "execution_count": 115,
   "metadata": {},
   "outputs": [
    {
     "data": {
      "text/plain": [
       "GridSearchCV(estimator=RandomForestClassifier(),\n",
       "             param_grid={'bootstrap': [True], 'criterion': ['gini'],\n",
       "                         'max_depth': [10, 15], 'max_features': [10, 15],\n",
       "                         'min_samples_leaf': [10, 20],\n",
       "                         'min_samples_split': [2, 5], 'random_state': [47]})"
      ]
     },
     "execution_count": 115,
     "metadata": {},
     "output_type": "execute_result"
    }
   ],
   "source": [
    "gs.fit(X_train, y_train)"
   ]
  },
  {
   "cell_type": "code",
   "execution_count": 108,
   "metadata": {},
   "outputs": [
    {
     "data": {
      "text/plain": [
       "{'bootstrap': True,\n",
       " 'criterion': 'gini',\n",
       " 'max_depth': 10,\n",
       " 'max_features': 10,\n",
       " 'min_samples_leaf': 20,\n",
       " 'min_samples_split': 2,\n",
       " 'random_state': 47}"
      ]
     },
     "execution_count": 108,
     "metadata": {},
     "output_type": "execute_result"
    }
   ],
   "source": [
    "gs.best_params_"
   ]
  },
  {
   "cell_type": "code",
   "execution_count": 16,
   "metadata": {},
   "outputs": [
    {
     "ename": "NameError",
     "evalue": "name 'forest' is not defined",
     "output_type": "error",
     "traceback": [
      "\u001b[1;31m---------------------------------------------------------------------------\u001b[0m",
      "\u001b[1;31mNameError\u001b[0m                                 Traceback (most recent call last)",
      "\u001b[1;32m<ipython-input-16-5d8da22607a7>\u001b[0m in \u001b[0;36m<module>\u001b[1;34m\u001b[0m\n\u001b[0;32m     10\u001b[0m }\n\u001b[0;32m     11\u001b[0m \u001b[1;33m\u001b[0m\u001b[0m\n\u001b[1;32m---> 12\u001b[1;33m \u001b[0mgs2\u001b[0m \u001b[1;33m=\u001b[0m \u001b[0mGridSearchCV\u001b[0m\u001b[1;33m(\u001b[0m\u001b[0mforest\u001b[0m\u001b[1;33m,\u001b[0m \u001b[0mparams\u001b[0m\u001b[1;33m)\u001b[0m\u001b[1;33m\u001b[0m\u001b[1;33m\u001b[0m\u001b[0m\n\u001b[0m",
      "\u001b[1;31mNameError\u001b[0m: name 'forest' is not defined"
     ]
    }
   ],
   "source": [
    "params2 = {\n",
    "    'bootstrap' : [True],\n",
    "    'random_state': [47],\n",
    "    'criterion' : [\"gini\"],\n",
    "    \n",
    "    'max_depth' : [10, 15],\n",
    "    'min_samples_split' : [2, 5],\n",
    "    'min_samples_leaf' : [10, 20],\n",
    "    'max_features' : [10, 15],\n",
    "}\n",
    "\n",
    "gs2 = GridSearchCV(forest, params)"
   ]
  },
  {
   "cell_type": "code",
   "execution_count": 116,
   "metadata": {},
   "outputs": [
    {
     "data": {
      "text/plain": [
       "{'bootstrap': True,\n",
       " 'criterion': 'gini',\n",
       " 'max_depth': 15,\n",
       " 'max_features': 10,\n",
       " 'min_samples_leaf': 10,\n",
       " 'min_samples_split': 2,\n",
       " 'random_state': 47}"
      ]
     },
     "execution_count": 116,
     "metadata": {},
     "output_type": "execute_result"
    }
   ],
   "source": [
    "gs2.best_params_"
   ]
  },
  {
   "cell_type": "code",
   "execution_count": 122,
   "metadata": {},
   "outputs": [
    {
     "data": {
      "text/plain": [
       "0.7504938049919195"
      ]
     },
     "execution_count": 122,
     "metadata": {},
     "output_type": "execute_result"
    }
   ],
   "source": [
    "forest2 = RandomForestClassifier(bootstrap = True, criterion = 'gini', max_features = 10, max_depth = 10, min_samples_leaf = 20, min_samples_split = 3, random_state = 47)\n",
    "forest2.fit(X_train, y_train)\n",
    "forest2.score(X_test, y_test)"
   ]
  },
  {
   "cell_type": "code",
   "execution_count": 17,
   "metadata": {},
   "outputs": [
    {
     "data": {
      "text/plain": [
       "0.7434009696534387"
      ]
     },
     "execution_count": 17,
     "metadata": {},
     "output_type": "execute_result"
    }
   ],
   "source": [
    "forest3 = RandomForestClassifier(bootstrap = True, criterion = 'gini', random_state = 47, max_depth = 15, min_samples_leaf = 10, min_samples_split = 2)\n",
    "forest3.fit(X_train, y_train)\n",
    "forest3.score(X_test, y_test)"
   ]
  },
  {
   "cell_type": "code",
   "execution_count": 18,
   "metadata": {},
   "outputs": [],
   "source": [
    "y_test_pred = forest3.predict(X_test)"
   ]
  },
  {
   "cell_type": "code",
   "execution_count": 19,
   "metadata": {},
   "outputs": [
    {
     "data": {
      "text/plain": [
       "<sklearn.metrics._plot.confusion_matrix.ConfusionMatrixDisplay at 0x2a41264d320>"
      ]
     },
     "execution_count": 19,
     "metadata": {},
     "output_type": "execute_result"
    },
    {
     "data": {
      "image/png": "[encoded data removed]",
      "text/plain": [
       "<Figure size 432x288 with 2 Axes>"
      ]
     },
     "metadata": {
      "needs_background": "light"
     },
     "output_type": "display_data"
    }
   ],
   "source": [
    "plot_confusion_matrix(forest3, X_test, y_test, cmap = \"Reds\")"
   ]
  },
  {
   "cell_type": "code",
   "execution_count": 20,
   "metadata": {},
   "outputs": [],
   "source": [
    "from sklearn.pipeline import Pipeline"
   ]
  },
  {
   "cell_type": "code",
   "execution_count": 21,
   "metadata": {},
   "outputs": [],
   "source": [
    "from sklearn.neighbors import KNeighborsClassifier"
   ]
  },
  {
   "cell_type": "code",
   "execution_count": 22,
   "metadata": {},
   "outputs": [
    {
     "data": {
      "text/html": [
       "<div>\n",
       "<style scoped>\n",
       "    .dataframe tbody tr th:only-of-type {\n",
       "        vertical-align: middle;\n",
       "    }\n",
       "\n",
       "    .dataframe tbody tr th {\n",
       "        vertical-align: top;\n",
       "    }\n",
       "\n",
       "    .dataframe thead th {\n",
       "        text-align: right;\n",
       "    }\n",
       "</style>\n",
       "<table border=\"1\" class=\"dataframe\">\n",
       "  <thead>\n",
       "    <tr style=\"text-align: right;\">\n",
       "      <th></th>\n",
       "      <th>0</th>\n",
       "      <th>1</th>\n",
       "      <th>2</th>\n",
       "      <th>3</th>\n",
       "      <th>4</th>\n",
       "      <th>5</th>\n",
       "      <th>6</th>\n",
       "      <th>7</th>\n",
       "      <th>8</th>\n",
       "      <th>9</th>\n",
       "      <th>...</th>\n",
       "      <th>261</th>\n",
       "      <th>index</th>\n",
       "      <th>amount_tsh</th>\n",
       "      <th>gps_height</th>\n",
       "      <th>longitude</th>\n",
       "      <th>latitude</th>\n",
       "      <th>region_code</th>\n",
       "      <th>district_code</th>\n",
       "      <th>population</th>\n",
       "      <th>construction_year</th>\n",
       "    </tr>\n",
       "  </thead>\n",
       "  <tbody>\n",
       "    <tr>\n",
       "      <th>37653</th>\n",
       "      <td>0.0</td>\n",
       "      <td>0.0</td>\n",
       "      <td>0.0</td>\n",
       "      <td>0.0</td>\n",
       "      <td>0.0</td>\n",
       "      <td>1.0</td>\n",
       "      <td>0.0</td>\n",
       "      <td>0.0</td>\n",
       "      <td>0.0</td>\n",
       "      <td>0.0</td>\n",
       "      <td>...</td>\n",
       "      <td>0.0</td>\n",
       "      <td>32114</td>\n",
       "      <td>200.0</td>\n",
       "      <td>1007</td>\n",
       "      <td>36.705840</td>\n",
       "      <td>-8.665994</td>\n",
       "      <td>5</td>\n",
       "      <td>4</td>\n",
       "      <td>15</td>\n",
       "      <td>2004</td>\n",
       "    </tr>\n",
       "    <tr>\n",
       "      <th>8211</th>\n",
       "      <td>0.0</td>\n",
       "      <td>0.0</td>\n",
       "      <td>0.0</td>\n",
       "      <td>0.0</td>\n",
       "      <td>0.0</td>\n",
       "      <td>1.0</td>\n",
       "      <td>0.0</td>\n",
       "      <td>0.0</td>\n",
       "      <td>0.0</td>\n",
       "      <td>0.0</td>\n",
       "      <td>...</td>\n",
       "      <td>0.0</td>\n",
       "      <td>53800</td>\n",
       "      <td>0.0</td>\n",
       "      <td>274</td>\n",
       "      <td>36.899166</td>\n",
       "      <td>-7.796632</td>\n",
       "      <td>5</td>\n",
       "      <td>3</td>\n",
       "      <td>510</td>\n",
       "      <td>1973</td>\n",
       "    </tr>\n",
       "    <tr>\n",
       "      <th>38826</th>\n",
       "      <td>0.0</td>\n",
       "      <td>0.0</td>\n",
       "      <td>0.0</td>\n",
       "      <td>1.0</td>\n",
       "      <td>0.0</td>\n",
       "      <td>0.0</td>\n",
       "      <td>0.0</td>\n",
       "      <td>0.0</td>\n",
       "      <td>0.0</td>\n",
       "      <td>0.0</td>\n",
       "      <td>...</td>\n",
       "      <td>0.0</td>\n",
       "      <td>47493</td>\n",
       "      <td>50.0</td>\n",
       "      <td>1666</td>\n",
       "      <td>34.556802</td>\n",
       "      <td>-1.354437</td>\n",
       "      <td>20</td>\n",
       "      <td>1</td>\n",
       "      <td>700</td>\n",
       "      <td>2007</td>\n",
       "    </tr>\n",
       "    <tr>\n",
       "      <th>14445</th>\n",
       "      <td>0.0</td>\n",
       "      <td>0.0</td>\n",
       "      <td>0.0</td>\n",
       "      <td>1.0</td>\n",
       "      <td>0.0</td>\n",
       "      <td>0.0</td>\n",
       "      <td>0.0</td>\n",
       "      <td>0.0</td>\n",
       "      <td>0.0</td>\n",
       "      <td>0.0</td>\n",
       "      <td>...</td>\n",
       "      <td>0.0</td>\n",
       "      <td>25985</td>\n",
       "      <td>0.0</td>\n",
       "      <td>0</td>\n",
       "      <td>33.749123</td>\n",
       "      <td>-3.073936</td>\n",
       "      <td>17</td>\n",
       "      <td>2</td>\n",
       "      <td>0</td>\n",
       "      <td>0</td>\n",
       "    </tr>\n",
       "    <tr>\n",
       "      <th>22110</th>\n",
       "      <td>0.0</td>\n",
       "      <td>0.0</td>\n",
       "      <td>0.0</td>\n",
       "      <td>1.0</td>\n",
       "      <td>0.0</td>\n",
       "      <td>0.0</td>\n",
       "      <td>0.0</td>\n",
       "      <td>0.0</td>\n",
       "      <td>0.0</td>\n",
       "      <td>0.0</td>\n",
       "      <td>...</td>\n",
       "      <td>0.0</td>\n",
       "      <td>33343</td>\n",
       "      <td>0.0</td>\n",
       "      <td>0</td>\n",
       "      <td>30.960648</td>\n",
       "      <td>-2.804334</td>\n",
       "      <td>18</td>\n",
       "      <td>4</td>\n",
       "      <td>0</td>\n",
       "      <td>0</td>\n",
       "    </tr>\n",
       "    <tr>\n",
       "      <th>...</th>\n",
       "      <td>...</td>\n",
       "      <td>...</td>\n",
       "      <td>...</td>\n",
       "      <td>...</td>\n",
       "      <td>...</td>\n",
       "      <td>...</td>\n",
       "      <td>...</td>\n",
       "      <td>...</td>\n",
       "      <td>...</td>\n",
       "      <td>...</td>\n",
       "      <td>...</td>\n",
       "      <td>...</td>\n",
       "      <td>...</td>\n",
       "      <td>...</td>\n",
       "      <td>...</td>\n",
       "      <td>...</td>\n",
       "      <td>...</td>\n",
       "      <td>...</td>\n",
       "      <td>...</td>\n",
       "      <td>...</td>\n",
       "      <td>...</td>\n",
       "    </tr>\n",
       "    <tr>\n",
       "      <th>32032</th>\n",
       "      <td>1.0</td>\n",
       "      <td>0.0</td>\n",
       "      <td>0.0</td>\n",
       "      <td>0.0</td>\n",
       "      <td>0.0</td>\n",
       "      <td>0.0</td>\n",
       "      <td>0.0</td>\n",
       "      <td>0.0</td>\n",
       "      <td>0.0</td>\n",
       "      <td>0.0</td>\n",
       "      <td>...</td>\n",
       "      <td>0.0</td>\n",
       "      <td>31174</td>\n",
       "      <td>200.0</td>\n",
       "      <td>964</td>\n",
       "      <td>35.898092</td>\n",
       "      <td>-10.195426</td>\n",
       "      <td>10</td>\n",
       "      <td>5</td>\n",
       "      <td>1250</td>\n",
       "      <td>1998</td>\n",
       "    </tr>\n",
       "    <tr>\n",
       "      <th>38366</th>\n",
       "      <td>0.0</td>\n",
       "      <td>0.0</td>\n",
       "      <td>0.0</td>\n",
       "      <td>0.0</td>\n",
       "      <td>1.0</td>\n",
       "      <td>0.0</td>\n",
       "      <td>0.0</td>\n",
       "      <td>0.0</td>\n",
       "      <td>0.0</td>\n",
       "      <td>0.0</td>\n",
       "      <td>...</td>\n",
       "      <td>0.0</td>\n",
       "      <td>52092</td>\n",
       "      <td>0.0</td>\n",
       "      <td>1789</td>\n",
       "      <td>38.194332</td>\n",
       "      <td>-4.653468</td>\n",
       "      <td>4</td>\n",
       "      <td>1</td>\n",
       "      <td>1</td>\n",
       "      <td>1967</td>\n",
       "    </tr>\n",
       "    <tr>\n",
       "      <th>38303</th>\n",
       "      <td>0.0</td>\n",
       "      <td>0.0</td>\n",
       "      <td>0.0</td>\n",
       "      <td>1.0</td>\n",
       "      <td>0.0</td>\n",
       "      <td>0.0</td>\n",
       "      <td>0.0</td>\n",
       "      <td>0.0</td>\n",
       "      <td>0.0</td>\n",
       "      <td>0.0</td>\n",
       "      <td>...</td>\n",
       "      <td>0.0</td>\n",
       "      <td>53117</td>\n",
       "      <td>0.0</td>\n",
       "      <td>0</td>\n",
       "      <td>33.380346</td>\n",
       "      <td>-3.132556</td>\n",
       "      <td>19</td>\n",
       "      <td>4</td>\n",
       "      <td>0</td>\n",
       "      <td>0</td>\n",
       "    </tr>\n",
       "    <tr>\n",
       "      <th>1743</th>\n",
       "      <td>0.0</td>\n",
       "      <td>0.0</td>\n",
       "      <td>0.0</td>\n",
       "      <td>0.0</td>\n",
       "      <td>0.0</td>\n",
       "      <td>1.0</td>\n",
       "      <td>0.0</td>\n",
       "      <td>0.0</td>\n",
       "      <td>0.0</td>\n",
       "      <td>0.0</td>\n",
       "      <td>...</td>\n",
       "      <td>0.0</td>\n",
       "      <td>45235</td>\n",
       "      <td>0.0</td>\n",
       "      <td>336</td>\n",
       "      <td>36.353094</td>\n",
       "      <td>-8.800886</td>\n",
       "      <td>5</td>\n",
       "      <td>4</td>\n",
       "      <td>1</td>\n",
       "      <td>1995</td>\n",
       "    </tr>\n",
       "    <tr>\n",
       "      <th>25147</th>\n",
       "      <td>0.0</td>\n",
       "      <td>0.0</td>\n",
       "      <td>0.0</td>\n",
       "      <td>0.0</td>\n",
       "      <td>0.0</td>\n",
       "      <td>0.0</td>\n",
       "      <td>0.0</td>\n",
       "      <td>1.0</td>\n",
       "      <td>0.0</td>\n",
       "      <td>0.0</td>\n",
       "      <td>...</td>\n",
       "      <td>0.0</td>\n",
       "      <td>28520</td>\n",
       "      <td>200.0</td>\n",
       "      <td>442</td>\n",
       "      <td>37.146756</td>\n",
       "      <td>-6.810258</td>\n",
       "      <td>5</td>\n",
       "      <td>1</td>\n",
       "      <td>450</td>\n",
       "      <td>1985</td>\n",
       "    </tr>\n",
       "  </tbody>\n",
       "</table>\n",
       "<p>33412 rows × 271 columns</p>\n",
       "</div>"
      ],
      "text/plain": [
       "         0    1    2    3    4    5    6    7    8    9  ...  261  index  \\\n",
       "37653  0.0  0.0  0.0  0.0  0.0  1.0  0.0  0.0  0.0  0.0  ...  0.0  32114   \n",
       "8211   0.0  0.0  0.0  0.0  0.0  1.0  0.0  0.0  0.0  0.0  ...  0.0  53800   \n",
       "38826  0.0  0.0  0.0  1.0  0.0  0.0  0.0  0.0  0.0  0.0  ...  0.0  47493   \n",
       "14445  0.0  0.0  0.0  1.0  0.0  0.0  0.0  0.0  0.0  0.0  ...  0.0  25985   \n",
       "22110  0.0  0.0  0.0  1.0  0.0  0.0  0.0  0.0  0.0  0.0  ...  0.0  33343   \n",
       "...    ...  ...  ...  ...  ...  ...  ...  ...  ...  ...  ...  ...    ...   \n",
       "32032  1.0  0.0  0.0  0.0  0.0  0.0  0.0  0.0  0.0  0.0  ...  0.0  31174   \n",
       "38366  0.0  0.0  0.0  0.0  1.0  0.0  0.0  0.0  0.0  0.0  ...  0.0  52092   \n",
       "38303  0.0  0.0  0.0  1.0  0.0  0.0  0.0  0.0  0.0  0.0  ...  0.0  53117   \n",
       "1743   0.0  0.0  0.0  0.0  0.0  1.0  0.0  0.0  0.0  0.0  ...  0.0  45235   \n",
       "25147  0.0  0.0  0.0  0.0  0.0  0.0  0.0  1.0  0.0  0.0  ...  0.0  28520   \n",
       "\n",
       "       amount_tsh  gps_height  longitude   latitude  region_code  \\\n",
       "37653       200.0        1007  36.705840  -8.665994            5   \n",
       "8211          0.0         274  36.899166  -7.796632            5   \n",
       "38826        50.0        1666  34.556802  -1.354437           20   \n",
       "14445         0.0           0  33.749123  -3.073936           17   \n",
       "22110         0.0           0  30.960648  -2.804334           18   \n",
       "...           ...         ...        ...        ...          ...   \n",
       "32032       200.0         964  35.898092 -10.195426           10   \n",
       "38366         0.0        1789  38.194332  -4.653468            4   \n",
       "38303         0.0           0  33.380346  -3.132556           19   \n",
       "1743          0.0         336  36.353094  -8.800886            5   \n",
       "25147       200.0         442  37.146756  -6.810258            5   \n",
       "\n",
       "       district_code  population  construction_year  \n",
       "37653              4          15               2004  \n",
       "8211               3         510               1973  \n",
       "38826              1         700               2007  \n",
       "14445              2           0                  0  \n",
       "22110              4           0                  0  \n",
       "...              ...         ...                ...  \n",
       "32032              5        1250               1998  \n",
       "38366              1           1               1967  \n",
       "38303              4           0                  0  \n",
       "1743               4           1               1995  \n",
       "25147              1         450               1985  \n",
       "\n",
       "[33412 rows x 271 columns]"
      ]
     },
     "execution_count": 22,
     "metadata": {},
     "output_type": "execute_result"
    }
   ],
   "source": [
    "X_train"
   ]
  },
  {
   "cell_type": "code",
   "execution_count": 25,
   "metadata": {},
   "outputs": [],
   "source": [
    "# X_train_knn = X_train[['latitude', 'longitude', 'gps_height', 'basin_code', 'district_code', 'management_code']]\n",
    "# X_test_knn = X_test[['latitude', 'longitude', 'gps_height', 'basin_code', 'district_code', 'management_code']]"
   ]
  },
  {
   "cell_type": "code",
   "execution_count": 36,
   "metadata": {},
   "outputs": [],
   "source": [
    "KNN = KNeighborsClassifier(weights = 'distance', n_neighbors = 3)"
   ]
  },
  {
   "cell_type": "code",
   "execution_count": 37,
   "metadata": {},
   "outputs": [
    {
     "data": {
      "text/plain": [
       "KNeighborsClassifier(n_neighbors=3, weights='distance')"
      ]
     },
     "execution_count": 37,
     "metadata": {},
     "output_type": "execute_result"
    }
   ],
   "source": [
    "KNN.fit(X_train, y_train)"
   ]
  },
  {
   "cell_type": "code",
   "execution_count": 38,
   "metadata": {},
   "outputs": [
    {
     "data": {
      "text/plain": [
       "0.5000897827258035"
      ]
     },
     "execution_count": 38,
     "metadata": {},
     "output_type": "execute_result"
    }
   ],
   "source": [
    "KNN.score(X_test, y_test)"
   ]
  },
  {
   "cell_type": "code",
   "execution_count": 26,
   "metadata": {},
   "outputs": [],
   "source": [
    "from sklearn.preprocessing import StandardScaler, MinMaxScaler, Normalizer\n"
   ]
  },
  {
   "cell_type": "code",
   "execution_count": 27,
   "metadata": {},
   "outputs": [],
   "source": [
    "ss = StandardScaler()\n",
    "\n",
    "X_train_scales = ss.fit_transform(X_train)\n",
    "X_test_scales = ss.transform(X_test)"
   ]
  },
  {
   "cell_type": "code",
   "execution_count": 28,
   "metadata": {},
   "outputs": [
    {
     "data": {
      "text/plain": [
       "RandomForestClassifier(max_depth=15, min_samples_leaf=10, random_state=47)"
      ]
     },
     "execution_count": 28,
     "metadata": {},
     "output_type": "execute_result"
    }
   ],
   "source": [
    "forest3.fit(X_train_scales, y_train)"
   ]
  },
  {
   "cell_type": "code",
   "execution_count": 29,
   "metadata": {},
   "outputs": [
    {
     "data": {
      "text/plain": [
       "0.7434009696534387"
      ]
     },
     "execution_count": 29,
     "metadata": {},
     "output_type": "execute_result"
    }
   ],
   "source": [
    "forest3.score(X_test_scales, y_test)"
   ]
  },
  {
   "cell_type": "code",
   "execution_count": 30,
   "metadata": {},
   "outputs": [],
   "source": [
    "from sklearn.pipeline import make_pipeline\n",
    "from sklearn.linear_model import LogisticRegression\n"
   ]
  },
  {
   "cell_type": "code",
   "execution_count": 81,
   "metadata": {},
   "outputs": [
    {
     "data": {
      "text/plain": [
       "0.75202011133058"
      ]
     },
     "execution_count": 81,
     "metadata": {},
     "output_type": "execute_result"
    }
   ],
   "source": [
    "pipe1 = make_pipeline(\n",
    "    MinMaxScaler(),\n",
    "    RandomForestClassifier(bootstrap = True, criterion = 'gini', \n",
    "                           random_state = 47, max_depth = 30, \n",
    "                           min_samples_leaf = 15, min_samples_split = 2\n",
    "))\n",
    "\n",
    "pipe1.fit(X_train, y_train)\n",
    "pipe1.score(X_test, y_test)"
   ]
  },
  {
   "cell_type": "code",
   "execution_count": 51,
   "metadata": {},
   "outputs": [
    {
     "data": {
      "text/plain": [
       "array([0, 2, 1], dtype=int64)"
      ]
     },
     "execution_count": 51,
     "metadata": {},
     "output_type": "execute_result"
    }
   ],
   "source": [
    "y.unique()"
   ]
  },
  {
   "cell_type": "code",
   "execution_count": 55,
   "metadata": {},
   "outputs": [
    {
     "data": {
      "text/plain": [
       "0.7103609265577303"
      ]
     },
     "execution_count": 55,
     "metadata": {},
     "output_type": "execute_result"
    }
   ],
   "source": [
    "pipe2 = make_pipeline(\n",
    "    MinMaxScaler(),\n",
    "    DecisionTreeClassifier())\n",
    "\n",
    "pipe2.fit(X_train, y_train)\n",
    "pipe2.score(X_test, y_test) "
   ]
  },
  {
   "cell_type": "code",
   "execution_count": 61,
   "metadata": {},
   "outputs": [
    {
     "name": "stderr",
     "output_type": "stream",
     "text": [
      "C:\\Users\\Raven (Work)\\.conda\\envs\\learn-env\\lib\\site-packages\\sklearn\\model_selection\\_validation.py:552: FitFailedWarning:\n",
      "\n",
      "Estimator fit failed. The score on this train-test partition for these parameters will be set to nan. Details: \n",
      "Traceback (most recent call last):\n",
      "  File \"C:\\Users\\Raven (Work)\\.conda\\envs\\learn-env\\lib\\site-packages\\sklearn\\model_selection\\_validation.py\", line 531, in _fit_and_score\n",
      "    estimator.fit(X_train, y_train, **fit_params)\n",
      "  File \"C:\\Users\\Raven (Work)\\.conda\\envs\\learn-env\\lib\\site-packages\\sklearn\\ensemble\\_forest.py\", line 330, in fit\n",
      "    y, expanded_class_weight = self._validate_y_class_weight(y)\n",
      "  File \"C:\\Users\\Raven (Work)\\.conda\\envs\\learn-env\\lib\\site-packages\\sklearn\\ensemble\\_forest.py\", line 604, in _validate_y_class_weight\n",
      "    y_original)\n",
      "  File \"C:\\Users\\Raven (Work)\\.conda\\envs\\learn-env\\lib\\site-packages\\sklearn\\utils\\validation.py\", line 73, in inner_f\n",
      "    return f(**kwargs)\n",
      "  File \"C:\\Users\\Raven (Work)\\.conda\\envs\\learn-env\\lib\\site-packages\\sklearn\\utils\\class_weight.py\", line 167, in compute_sample_weight\n",
      "    y=y_full)\n",
      "  File \"C:\\Users\\Raven (Work)\\.conda\\envs\\learn-env\\lib\\site-packages\\sklearn\\utils\\validation.py\", line 73, in inner_f\n",
      "    return f(**kwargs)\n",
      "  File \"C:\\Users\\Raven (Work)\\.conda\\envs\\learn-env\\lib\\site-packages\\sklearn\\utils\\class_weight.py\", line 68, in compute_class_weight\n",
      "    raise ValueError(\"Class label {} not present.\".format(c))\n",
      "ValueError: Class label 3 not present.\n",
      "\n",
      "\n",
      "C:\\Users\\Raven (Work)\\.conda\\envs\\learn-env\\lib\\site-packages\\sklearn\\model_selection\\_validation.py:552: FitFailedWarning:\n",
      "\n",
      "Estimator fit failed. The score on this train-test partition for these parameters will be set to nan. Details: \n",
      "Traceback (most recent call last):\n",
      "  File \"C:\\Users\\Raven (Work)\\.conda\\envs\\learn-env\\lib\\site-packages\\sklearn\\model_selection\\_validation.py\", line 531, in _fit_and_score\n",
      "    estimator.fit(X_train, y_train, **fit_params)\n",
      "  File \"C:\\Users\\Raven (Work)\\.conda\\envs\\learn-env\\lib\\site-packages\\sklearn\\ensemble\\_forest.py\", line 330, in fit\n",
      "    y, expanded_class_weight = self._validate_y_class_weight(y)\n",
      "  File \"C:\\Users\\Raven (Work)\\.conda\\envs\\learn-env\\lib\\site-packages\\sklearn\\ensemble\\_forest.py\", line 604, in _validate_y_class_weight\n",
      "    y_original)\n",
      "  File \"C:\\Users\\Raven (Work)\\.conda\\envs\\learn-env\\lib\\site-packages\\sklearn\\utils\\validation.py\", line 73, in inner_f\n",
      "    return f(**kwargs)\n",
      "  File \"C:\\Users\\Raven (Work)\\.conda\\envs\\learn-env\\lib\\site-packages\\sklearn\\utils\\class_weight.py\", line 167, in compute_sample_weight\n",
      "    y=y_full)\n",
      "  File \"C:\\Users\\Raven (Work)\\.conda\\envs\\learn-env\\lib\\site-packages\\sklearn\\utils\\validation.py\", line 73, in inner_f\n",
      "    return f(**kwargs)\n",
      "  File \"C:\\Users\\Raven (Work)\\.conda\\envs\\learn-env\\lib\\site-packages\\sklearn\\utils\\class_weight.py\", line 68, in compute_class_weight\n",
      "    raise ValueError(\"Class label {} not present.\".format(c))\n",
      "ValueError: Class label 3 not present.\n",
      "\n",
      "\n",
      "C:\\Users\\Raven (Work)\\.conda\\envs\\learn-env\\lib\\site-packages\\sklearn\\model_selection\\_validation.py:552: FitFailedWarning:\n",
      "\n",
      "Estimator fit failed. The score on this train-test partition for these parameters will be set to nan. Details: \n",
      "Traceback (most recent call last):\n",
      "  File \"C:\\Users\\Raven (Work)\\.conda\\envs\\learn-env\\lib\\site-packages\\sklearn\\model_selection\\_validation.py\", line 531, in _fit_and_score\n",
      "    estimator.fit(X_train, y_train, **fit_params)\n",
      "  File \"C:\\Users\\Raven (Work)\\.conda\\envs\\learn-env\\lib\\site-packages\\sklearn\\ensemble\\_forest.py\", line 330, in fit\n",
      "    y, expanded_class_weight = self._validate_y_class_weight(y)\n",
      "  File \"C:\\Users\\Raven (Work)\\.conda\\envs\\learn-env\\lib\\site-packages\\sklearn\\ensemble\\_forest.py\", line 604, in _validate_y_class_weight\n",
      "    y_original)\n",
      "  File \"C:\\Users\\Raven (Work)\\.conda\\envs\\learn-env\\lib\\site-packages\\sklearn\\utils\\validation.py\", line 73, in inner_f\n",
      "    return f(**kwargs)\n",
      "  File \"C:\\Users\\Raven (Work)\\.conda\\envs\\learn-env\\lib\\site-packages\\sklearn\\utils\\class_weight.py\", line 167, in compute_sample_weight\n",
      "    y=y_full)\n",
      "  File \"C:\\Users\\Raven (Work)\\.conda\\envs\\learn-env\\lib\\site-packages\\sklearn\\utils\\validation.py\", line 73, in inner_f\n",
      "    return f(**kwargs)\n",
      "  File \"C:\\Users\\Raven (Work)\\.conda\\envs\\learn-env\\lib\\site-packages\\sklearn\\utils\\class_weight.py\", line 68, in compute_class_weight\n",
      "    raise ValueError(\"Class label {} not present.\".format(c))\n",
      "ValueError: Class label 3 not present.\n",
      "\n",
      "\n",
      "C:\\Users\\Raven (Work)\\.conda\\envs\\learn-env\\lib\\site-packages\\sklearn\\model_selection\\_validation.py:552: FitFailedWarning:\n",
      "\n",
      "Estimator fit failed. The score on this train-test partition for these parameters will be set to nan. Details: \n",
      "Traceback (most recent call last):\n",
      "  File \"C:\\Users\\Raven (Work)\\.conda\\envs\\learn-env\\lib\\site-packages\\sklearn\\model_selection\\_validation.py\", line 531, in _fit_and_score\n",
      "    estimator.fit(X_train, y_train, **fit_params)\n",
      "  File \"C:\\Users\\Raven (Work)\\.conda\\envs\\learn-env\\lib\\site-packages\\sklearn\\ensemble\\_forest.py\", line 330, in fit\n",
      "    y, expanded_class_weight = self._validate_y_class_weight(y)\n",
      "  File \"C:\\Users\\Raven (Work)\\.conda\\envs\\learn-env\\lib\\site-packages\\sklearn\\ensemble\\_forest.py\", line 604, in _validate_y_class_weight\n",
      "    y_original)\n",
      "  File \"C:\\Users\\Raven (Work)\\.conda\\envs\\learn-env\\lib\\site-packages\\sklearn\\utils\\validation.py\", line 73, in inner_f\n",
      "    return f(**kwargs)\n",
      "  File \"C:\\Users\\Raven (Work)\\.conda\\envs\\learn-env\\lib\\site-packages\\sklearn\\utils\\class_weight.py\", line 167, in compute_sample_weight\n",
      "    y=y_full)\n",
      "  File \"C:\\Users\\Raven (Work)\\.conda\\envs\\learn-env\\lib\\site-packages\\sklearn\\utils\\validation.py\", line 73, in inner_f\n",
      "    return f(**kwargs)\n",
      "  File \"C:\\Users\\Raven (Work)\\.conda\\envs\\learn-env\\lib\\site-packages\\sklearn\\utils\\class_weight.py\", line 68, in compute_class_weight\n",
      "    raise ValueError(\"Class label {} not present.\".format(c))\n",
      "ValueError: Class label 3 not present.\n",
      "\n",
      "\n",
      "C:\\Users\\Raven (Work)\\.conda\\envs\\learn-env\\lib\\site-packages\\sklearn\\model_selection\\_validation.py:552: FitFailedWarning:\n",
      "\n",
      "Estimator fit failed. The score on this train-test partition for these parameters will be set to nan. Details: \n",
      "Traceback (most recent call last):\n",
      "  File \"C:\\Users\\Raven (Work)\\.conda\\envs\\learn-env\\lib\\site-packages\\sklearn\\model_selection\\_validation.py\", line 531, in _fit_and_score\n",
      "    estimator.fit(X_train, y_train, **fit_params)\n",
      "  File \"C:\\Users\\Raven (Work)\\.conda\\envs\\learn-env\\lib\\site-packages\\sklearn\\ensemble\\_forest.py\", line 330, in fit\n",
      "    y, expanded_class_weight = self._validate_y_class_weight(y)\n",
      "  File \"C:\\Users\\Raven (Work)\\.conda\\envs\\learn-env\\lib\\site-packages\\sklearn\\ensemble\\_forest.py\", line 604, in _validate_y_class_weight\n",
      "    y_original)\n",
      "  File \"C:\\Users\\Raven (Work)\\.conda\\envs\\learn-env\\lib\\site-packages\\sklearn\\utils\\validation.py\", line 73, in inner_f\n",
      "    return f(**kwargs)\n",
      "  File \"C:\\Users\\Raven (Work)\\.conda\\envs\\learn-env\\lib\\site-packages\\sklearn\\utils\\class_weight.py\", line 167, in compute_sample_weight\n",
      "    y=y_full)\n",
      "  File \"C:\\Users\\Raven (Work)\\.conda\\envs\\learn-env\\lib\\site-packages\\sklearn\\utils\\validation.py\", line 73, in inner_f\n",
      "    return f(**kwargs)\n",
      "  File \"C:\\Users\\Raven (Work)\\.conda\\envs\\learn-env\\lib\\site-packages\\sklearn\\utils\\class_weight.py\", line 68, in compute_class_weight\n",
      "    raise ValueError(\"Class label {} not present.\".format(c))\n",
      "ValueError: Class label 3 not present.\n",
      "\n",
      "\n",
      "C:\\Users\\Raven (Work)\\.conda\\envs\\learn-env\\lib\\site-packages\\sklearn\\model_selection\\_validation.py:552: FitFailedWarning:\n",
      "\n",
      "Estimator fit failed. The score on this train-test partition for these parameters will be set to nan. Details: \n",
      "Traceback (most recent call last):\n",
      "  File \"C:\\Users\\Raven (Work)\\.conda\\envs\\learn-env\\lib\\site-packages\\sklearn\\model_selection\\_validation.py\", line 531, in _fit_and_score\n",
      "    estimator.fit(X_train, y_train, **fit_params)\n",
      "  File \"C:\\Users\\Raven (Work)\\.conda\\envs\\learn-env\\lib\\site-packages\\sklearn\\ensemble\\_forest.py\", line 330, in fit\n",
      "    y, expanded_class_weight = self._validate_y_class_weight(y)\n",
      "  File \"C:\\Users\\Raven (Work)\\.conda\\envs\\learn-env\\lib\\site-packages\\sklearn\\ensemble\\_forest.py\", line 604, in _validate_y_class_weight\n",
      "    y_original)\n",
      "  File \"C:\\Users\\Raven (Work)\\.conda\\envs\\learn-env\\lib\\site-packages\\sklearn\\utils\\validation.py\", line 73, in inner_f\n",
      "    return f(**kwargs)\n",
      "  File \"C:\\Users\\Raven (Work)\\.conda\\envs\\learn-env\\lib\\site-packages\\sklearn\\utils\\class_weight.py\", line 167, in compute_sample_weight\n",
      "    y=y_full)\n",
      "  File \"C:\\Users\\Raven (Work)\\.conda\\envs\\learn-env\\lib\\site-packages\\sklearn\\utils\\validation.py\", line 73, in inner_f\n",
      "    return f(**kwargs)\n",
      "  File \"C:\\Users\\Raven (Work)\\.conda\\envs\\learn-env\\lib\\site-packages\\sklearn\\utils\\class_weight.py\", line 68, in compute_class_weight\n",
      "    raise ValueError(\"Class label {} not present.\".format(c))\n",
      "ValueError: Class label 3 not present.\n",
      "\n",
      "\n",
      "C:\\Users\\Raven (Work)\\.conda\\envs\\learn-env\\lib\\site-packages\\sklearn\\model_selection\\_validation.py:552: FitFailedWarning:\n",
      "\n",
      "Estimator fit failed. The score on this train-test partition for these parameters will be set to nan. Details: \n",
      "Traceback (most recent call last):\n",
      "  File \"C:\\Users\\Raven (Work)\\.conda\\envs\\learn-env\\lib\\site-packages\\sklearn\\model_selection\\_validation.py\", line 531, in _fit_and_score\n",
      "    estimator.fit(X_train, y_train, **fit_params)\n",
      "  File \"C:\\Users\\Raven (Work)\\.conda\\envs\\learn-env\\lib\\site-packages\\sklearn\\ensemble\\_forest.py\", line 330, in fit\n",
      "    y, expanded_class_weight = self._validate_y_class_weight(y)\n",
      "  File \"C:\\Users\\Raven (Work)\\.conda\\envs\\learn-env\\lib\\site-packages\\sklearn\\ensemble\\_forest.py\", line 604, in _validate_y_class_weight\n",
      "    y_original)\n",
      "  File \"C:\\Users\\Raven (Work)\\.conda\\envs\\learn-env\\lib\\site-packages\\sklearn\\utils\\validation.py\", line 73, in inner_f\n",
      "    return f(**kwargs)\n",
      "  File \"C:\\Users\\Raven (Work)\\.conda\\envs\\learn-env\\lib\\site-packages\\sklearn\\utils\\class_weight.py\", line 167, in compute_sample_weight\n",
      "    y=y_full)\n",
      "  File \"C:\\Users\\Raven (Work)\\.conda\\envs\\learn-env\\lib\\site-packages\\sklearn\\utils\\validation.py\", line 73, in inner_f\n",
      "    return f(**kwargs)\n",
      "  File \"C:\\Users\\Raven (Work)\\.conda\\envs\\learn-env\\lib\\site-packages\\sklearn\\utils\\class_weight.py\", line 68, in compute_class_weight\n",
      "    raise ValueError(\"Class label {} not present.\".format(c))\n",
      "ValueError: Class label 3 not present.\n",
      "\n",
      "\n",
      "C:\\Users\\Raven (Work)\\.conda\\envs\\learn-env\\lib\\site-packages\\sklearn\\model_selection\\_validation.py:552: FitFailedWarning:\n",
      "\n",
      "Estimator fit failed. The score on this train-test partition for these parameters will be set to nan. Details: \n",
      "Traceback (most recent call last):\n",
      "  File \"C:\\Users\\Raven (Work)\\.conda\\envs\\learn-env\\lib\\site-packages\\sklearn\\model_selection\\_validation.py\", line 531, in _fit_and_score\n",
      "    estimator.fit(X_train, y_train, **fit_params)\n",
      "  File \"C:\\Users\\Raven (Work)\\.conda\\envs\\learn-env\\lib\\site-packages\\sklearn\\ensemble\\_forest.py\", line 330, in fit\n",
      "    y, expanded_class_weight = self._validate_y_class_weight(y)\n",
      "  File \"C:\\Users\\Raven (Work)\\.conda\\envs\\learn-env\\lib\\site-packages\\sklearn\\ensemble\\_forest.py\", line 604, in _validate_y_class_weight\n",
      "    y_original)\n",
      "  File \"C:\\Users\\Raven (Work)\\.conda\\envs\\learn-env\\lib\\site-packages\\sklearn\\utils\\validation.py\", line 73, in inner_f\n",
      "    return f(**kwargs)\n",
      "  File \"C:\\Users\\Raven (Work)\\.conda\\envs\\learn-env\\lib\\site-packages\\sklearn\\utils\\class_weight.py\", line 167, in compute_sample_weight\n",
      "    y=y_full)\n",
      "  File \"C:\\Users\\Raven (Work)\\.conda\\envs\\learn-env\\lib\\site-packages\\sklearn\\utils\\validation.py\", line 73, in inner_f\n",
      "    return f(**kwargs)\n",
      "  File \"C:\\Users\\Raven (Work)\\.conda\\envs\\learn-env\\lib\\site-packages\\sklearn\\utils\\class_weight.py\", line 68, in compute_class_weight\n",
      "    raise ValueError(\"Class label {} not present.\".format(c))\n",
      "ValueError: Class label 3 not present.\n",
      "\n",
      "\n",
      "C:\\Users\\Raven (Work)\\.conda\\envs\\learn-env\\lib\\site-packages\\sklearn\\model_selection\\_validation.py:552: FitFailedWarning:\n",
      "\n",
      "Estimator fit failed. The score on this train-test partition for these parameters will be set to nan. Details: \n",
      "Traceback (most recent call last):\n",
      "  File \"C:\\Users\\Raven (Work)\\.conda\\envs\\learn-env\\lib\\site-packages\\sklearn\\model_selection\\_validation.py\", line 531, in _fit_and_score\n",
      "    estimator.fit(X_train, y_train, **fit_params)\n",
      "  File \"C:\\Users\\Raven (Work)\\.conda\\envs\\learn-env\\lib\\site-packages\\sklearn\\ensemble\\_forest.py\", line 330, in fit\n",
      "    y, expanded_class_weight = self._validate_y_class_weight(y)\n",
      "  File \"C:\\Users\\Raven (Work)\\.conda\\envs\\learn-env\\lib\\site-packages\\sklearn\\ensemble\\_forest.py\", line 604, in _validate_y_class_weight\n",
      "    y_original)\n",
      "  File \"C:\\Users\\Raven (Work)\\.conda\\envs\\learn-env\\lib\\site-packages\\sklearn\\utils\\validation.py\", line 73, in inner_f\n",
      "    return f(**kwargs)\n",
      "  File \"C:\\Users\\Raven (Work)\\.conda\\envs\\learn-env\\lib\\site-packages\\sklearn\\utils\\class_weight.py\", line 167, in compute_sample_weight\n",
      "    y=y_full)\n",
      "  File \"C:\\Users\\Raven (Work)\\.conda\\envs\\learn-env\\lib\\site-packages\\sklearn\\utils\\validation.py\", line 73, in inner_f\n",
      "    return f(**kwargs)\n",
      "  File \"C:\\Users\\Raven (Work)\\.conda\\envs\\learn-env\\lib\\site-packages\\sklearn\\utils\\class_weight.py\", line 68, in compute_class_weight\n",
      "    raise ValueError(\"Class label {} not present.\".format(c))\n",
      "ValueError: Class label 3 not present.\n",
      "\n",
      "\n",
      "C:\\Users\\Raven (Work)\\.conda\\envs\\learn-env\\lib\\site-packages\\sklearn\\model_selection\\_validation.py:552: FitFailedWarning:\n",
      "\n",
      "Estimator fit failed. The score on this train-test partition for these parameters will be set to nan. Details: \n",
      "Traceback (most recent call last):\n",
      "  File \"C:\\Users\\Raven (Work)\\.conda\\envs\\learn-env\\lib\\site-packages\\sklearn\\model_selection\\_validation.py\", line 531, in _fit_and_score\n",
      "    estimator.fit(X_train, y_train, **fit_params)\n",
      "  File \"C:\\Users\\Raven (Work)\\.conda\\envs\\learn-env\\lib\\site-packages\\sklearn\\ensemble\\_forest.py\", line 330, in fit\n",
      "    y, expanded_class_weight = self._validate_y_class_weight(y)\n",
      "  File \"C:\\Users\\Raven (Work)\\.conda\\envs\\learn-env\\lib\\site-packages\\sklearn\\ensemble\\_forest.py\", line 604, in _validate_y_class_weight\n",
      "    y_original)\n",
      "  File \"C:\\Users\\Raven (Work)\\.conda\\envs\\learn-env\\lib\\site-packages\\sklearn\\utils\\validation.py\", line 73, in inner_f\n",
      "    return f(**kwargs)\n",
      "  File \"C:\\Users\\Raven (Work)\\.conda\\envs\\learn-env\\lib\\site-packages\\sklearn\\utils\\class_weight.py\", line 167, in compute_sample_weight\n",
      "    y=y_full)\n",
      "  File \"C:\\Users\\Raven (Work)\\.conda\\envs\\learn-env\\lib\\site-packages\\sklearn\\utils\\validation.py\", line 73, in inner_f\n",
      "    return f(**kwargs)\n",
      "  File \"C:\\Users\\Raven (Work)\\.conda\\envs\\learn-env\\lib\\site-packages\\sklearn\\utils\\class_weight.py\", line 68, in compute_class_weight\n",
      "    raise ValueError(\"Class label {} not present.\".format(c))\n",
      "ValueError: Class label 3 not present.\n",
      "\n",
      "\n"
     ]
    },
    {
     "data": {
      "text/plain": [
       "0.6627760818818459"
      ]
     },
     "execution_count": 61,
     "metadata": {},
     "output_type": "execute_result"
    }
   ],
   "source": [
    "RandomForestClassifier(bootstrap = True, criterion = 'gini', random_state = 47, max_depth = 30, min_samples_leaf = 15, min_samples_split = 2)\n",
    "\n",
    ", ,\n"
   ]
  },
  {
   "cell_type": "code",
   "execution_count": 33,
   "metadata": {},
   "outputs": [],
   "source": [
    "from sklearn.metrics import classification_report"
   ]
  },
  {
   "cell_type": "code",
   "execution_count": 34,
   "metadata": {},
   "outputs": [],
   "source": [
    "y_test_pred = forest3.predict(X_test)"
   ]
  },
  {
   "cell_type": "code",
   "execution_count": 35,
   "metadata": {},
   "outputs": [
    {
     "name": "stdout",
     "output_type": "stream",
     "text": [
      "                         precision    recall  f1-score   support\n",
      "\n",
      "             functional       0.55      1.00      0.71      6105\n",
      "functional needs repair       0.00      0.00      0.00       792\n",
      "         non functional       0.00      0.00      0.00      4241\n",
      "\n",
      "               accuracy                           0.55     11138\n",
      "              macro avg       0.18      0.33      0.24     11138\n",
      "           weighted avg       0.30      0.55      0.39     11138\n",
      "\n"
     ]
    },
    {
     "name": "stderr",
     "output_type": "stream",
     "text": [
      "C:\\Users\\Raven (Work)\\.conda\\envs\\learn-env\\lib\\site-packages\\sklearn\\metrics\\_classification.py:1221: UndefinedMetricWarning:\n",
      "\n",
      "Precision and F-score are ill-defined and being set to 0.0 in labels with no predicted samples. Use `zero_division` parameter to control this behavior.\n",
      "\n"
     ]
    }
   ],
   "source": [
    "print(classification_report(y_test, y_test_pred, target_names = ['functional', 'functional needs repair', 'non functional']))"
   ]
  },
  {
   "cell_type": "code",
   "execution_count": 194,
   "metadata": {},
   "outputs": [
    {
     "data": {
      "text/plain": [
       "0    24237\n",
       "2    17102\n",
       "1     3211\n",
       "Name: status_group, dtype: int64"
      ]
     },
     "execution_count": 194,
     "metadata": {},
     "output_type": "execute_result"
    }
   ],
   "source": [
    "y.value_counts()"
   ]
  },
  {
   "cell_type": "code",
   "execution_count": 193,
   "metadata": {},
   "outputs": [],
   "source": [
    "import plotly.graph_objects as go"
   ]
  },
  {
   "cell_type": "code",
   "execution_count": null,
   "metadata": {},
   "outputs": [],
   "source": [
    "labels = ['Functional', 'Non-Functional', \"Functional, Needs Repair\"]\n",
    "values = [24237, ]"
   ]
  },
  {
   "cell_type": "code",
   "execution_count": 41,
   "metadata": {},
   "outputs": [],
   "source": [
    "from imblearn.over_sampling import SMOTE"
   ]
  }
 ],
 "metadata": {
  "kernelspec": {
   "display_name": "learn-env",
   "language": "python",
   "name": "learn-env"
  },
  "language_info": {
   "codemirror_mode": {
    "name": "ipython",
    "version": 3
   },
   "file_extension": ".py",
   "mimetype": "text/x-python",
   "name": "python",
   "nbconvert_exporter": "python",
   "pygments_lexer": "ipython3",
   "version": "3.6.9"
  }
 },
 "nbformat": 4,
 "nbformat_minor": 4
}
